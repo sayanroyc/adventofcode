{
 "cells": [
  {
   "cell_type": "markdown",
   "metadata": {},
   "source": [
    "# Day 1"
   ]
  },
  {
   "cell_type": "code",
   "execution_count": 1,
   "metadata": {},
   "outputs": [],
   "source": [
    "import numpy as np"
   ]
  },
  {
   "cell_type": "markdown",
   "metadata": {},
   "source": [
    "## Part 1"
   ]
  },
  {
   "cell_type": "code",
   "execution_count": 2,
   "metadata": {},
   "outputs": [],
   "source": [
    "data = np.loadtxt('input.txt')"
   ]
  },
  {
   "cell_type": "code",
   "execution_count": 15,
   "metadata": {},
   "outputs": [
    {
     "name": "stdout",
     "output_type": "stream",
     "text": [
      "There are 1692 increases in this data set\n"
     ]
    }
   ],
   "source": [
    "increase_counter = 0\n",
    "for i in range(len(data)):\n",
    "    if i==0:\n",
    "        continue\n",
    "    if (data[i]>data[i-1]):\n",
    "        increase_counter += 1\n",
    "\n",
    "print(\"There are\", increase_counter, \"increases in this data set\")"
   ]
  },
  {
   "cell_type": "code",
   "execution_count": 14,
   "metadata": {},
   "outputs": [
    {
     "data": {
      "text/plain": [
       "2000"
      ]
     },
     "execution_count": 14,
     "metadata": {},
     "output_type": "execute_result"
    }
   ],
   "source": [
    "len(data)"
   ]
  },
  {
   "cell_type": "markdown",
   "metadata": {},
   "source": [
    "## Part 2"
   ]
  },
  {
   "cell_type": "code",
   "execution_count": 25,
   "metadata": {},
   "outputs": [
    {
     "name": "stdout",
     "output_type": "stream",
     "text": [
      "There are 1724 increases in this data set\n"
     ]
    }
   ],
   "source": [
    "increase_counter = 0\n",
    "prev_window = 100000\n",
    "curr_window = 100000\n",
    "\n",
    "for i in range(len(data)):\n",
    "    a = i-2\n",
    "    b = i-1\n",
    "    if (a<0 or b<0):\n",
    "        continue\n",
    "    \n",
    "    v0 = data[a]\n",
    "    v1 = data[b]\n",
    "    v2 = data[i]\n",
    "    \n",
    "    prev_window = curr_window\n",
    "    curr_window = v0+v1+v2\n",
    "    \n",
    "    if (curr_window > prev_window):\n",
    "        increase_counter += 1\n",
    "\n",
    "print(\"There are\", increase_counter, \"increases in this data set\")        "
   ]
  },
  {
   "cell_type": "code",
   "execution_count": null,
   "metadata": {},
   "outputs": [],
   "source": []
  }
 ],
 "metadata": {
  "kernelspec": {
   "display_name": "Python 3",
   "language": "python",
   "name": "python3"
  },
  "language_info": {
   "codemirror_mode": {
    "name": "ipython",
    "version": 3
   },
   "file_extension": ".py",
   "mimetype": "text/x-python",
   "name": "python",
   "nbconvert_exporter": "python",
   "pygments_lexer": "ipython3",
   "version": "3.8.6"
  }
 },
 "nbformat": 4,
 "nbformat_minor": 4
}
