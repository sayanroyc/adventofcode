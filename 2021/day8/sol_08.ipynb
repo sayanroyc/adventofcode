{
 "cells": [
  {
   "cell_type": "markdown",
   "metadata": {},
   "source": [
    "# Day 8"
   ]
  },
  {
   "cell_type": "code",
   "execution_count": 167,
   "metadata": {},
   "outputs": [],
   "source": [
    "import numpy as np\n",
    "import pandas as pd\n",
    "\n",
    "with open(\"input.txt\") as f:\n",
    "    data = f.readlines()"
   ]
  },
  {
   "cell_type": "code",
   "execution_count": 168,
   "metadata": {},
   "outputs": [],
   "source": [
    "patterns = [] # a list of lists of 10 unique signal patterns\n",
    "outputs = []  # a list of lists of the outputs corresponding to each signal pattern\n",
    "for line in data:\n",
    "    line = line.split(\"| \")\n",
    "    patterns.append(line[0].rstrip().split(\" \"))\n",
    "    outputs.append(line[1].rstrip().split(\" \"))"
   ]
  },
  {
   "cell_type": "code",
   "execution_count": 169,
   "metadata": {},
   "outputs": [
    {
     "data": {
      "text/plain": [
       "200"
      ]
     },
     "execution_count": 169,
     "metadata": {},
     "output_type": "execute_result"
    }
   ],
   "source": [
    "len(patterns)"
   ]
  },
  {
   "cell_type": "markdown",
   "metadata": {},
   "source": [
    "## Part 1"
   ]
  },
  {
   "cell_type": "markdown",
   "metadata": {},
   "source": [
    "We want to count how many times the digits 1, 4, 7, and 8 appear. \n",
    "Digit : num line segments\n",
    "1: 2\n",
    "4: 4\n",
    "7: 3\n",
    "8: 7\n",
    "\n",
    "So, let's iterate through outputs array and count all of the items that are of length 2, 4, 3, or 7."
   ]
  },
  {
   "cell_type": "code",
   "execution_count": 20,
   "metadata": {},
   "outputs": [
    {
     "name": "stdout",
     "output_type": "stream",
     "text": [
      "The numbers 1, 4, 7, and 8 appear 247 times\n"
     ]
    }
   ],
   "source": [
    "digit_counter = 0\n",
    "for o in outputs:\n",
    "    for item in o:\n",
    "        if(len(item)==2 or len(item)==4 or len(item)==3 or len(item)==7):\n",
    "            digit_counter += 1\n",
    "            \n",
    "print(\"The numbers 1, 4, 7, and 8 appear\", digit_counter, \"times\")"
   ]
  },
  {
   "cell_type": "markdown",
   "metadata": {},
   "source": [
    "## Part 2"
   ]
  },
  {
   "cell_type": "markdown",
   "metadata": {},
   "source": [
    "| Digit | num line segments |\n",
    "| - | - |\n",
    "| 0 | 6 |\n",
    "| 1 | 2 |\n",
    "| 2 | 5 |\n",
    "| 3 | 5 |\n",
    "| 4 | 4 |\n",
    "| 5 | 5 |\n",
    "| 6 | 6 |\n",
    "| 7 | 3 |\n",
    "| 8 | 7 |\n",
    "| 9 | 6 |\n",
    "\n",
    "| num line segments | corresponding digits |\n",
    "| - | - |\n",
    "| 2 | 1 |\n",
    "| 3 | 7 |\n",
    "| 4 | 4 |\n",
    "| 5 | 2, 3, 5 |\n",
    "| 6 | 0, 6, 9 |\n",
    "| 7 | 8 |"
   ]
  },
  {
   "cell_type": "markdown",
   "metadata": {},
   "source": [
    "0. For each number, create a dictionary which holds the line segments used to draw it"
   ]
  },
  {
   "cell_type": "code",
   "execution_count": 152,
   "metadata": {},
   "outputs": [],
   "source": [
    "number_dict = {}\n",
    "number_dict[0] = [\"x0\", \"x2\", \"x3\", \"x4\", \"x5\", \"x6\"]\n",
    "number_dict[1] = [\"x5\", \"x6\"]\n",
    "number_dict[2] = [\"x0\", \"x5\", \"x1\", \"x4\", \"x2\"]\n",
    "number_dict[3] = [\"x0\", \"x5\", \"x1\", \"x6\", \"x2\"]\n",
    "number_dict[4] = [\"x3\", \"x1\", \"x5\", \"x6\"]\n",
    "number_dict[5] = [\"x0\", \"x3\", \"x1\", \"x6\", \"x2\"]\n",
    "number_dict[6] = [\"x0\", \"x1\", \"x2\", \"x3\", \"x4\", \"x6\"]\n",
    "number_dict[7] = [\"x0\", \"x5\", \"x6\"]\n",
    "number_dict[8] = [\"x0\", \"x1\", \"x2\", \"x3\", \"x4\", \"x5\", \"x6\"]\n",
    "number_dict[9] = [\"x0\", \"x1\", \"x2\", \"x3\", \"x5\", \"x6\"]\n"
   ]
  },
  {
   "cell_type": "markdown",
   "metadata": {},
   "source": [
    "0a. Create a dictionary where each key corresponds to a segment. See pic for segment names. Initialize each key to hold all of the potential options"
   ]
  },
  {
   "cell_type": "code",
   "execution_count": 153,
   "metadata": {},
   "outputs": [
    {
     "name": "stdout",
     "output_type": "stream",
     "text": [
      "{'x0': 'abcdefg', 'x1': 'abcdefg', 'x2': 'abcdefg', 'x3': 'abcdefg', 'x4': 'abcdefg', 'x5': 'abcdefg', 'x6': 'abcdefg'}\n"
     ]
    }
   ],
   "source": [
    "segment_dict = {}\n",
    "keys = ['x0', 'x1', 'x2', 'x3', 'x4', 'x5', 'x6']\n",
    "\n",
    "# initialize each key to hold all of the potential options\n",
    "for k in keys:\n",
    "    segment_dict[k] = 'abcdefg'\n",
    "\n",
    "print(segment_dict)"
   ]
  },
  {
   "cell_type": "markdown",
   "metadata": {},
   "source": [
    "1. Find the number 1 in my list and use it to identify positions x5 and x6"
   ]
  },
  {
   "cell_type": "code",
   "execution_count": 154,
   "metadata": {},
   "outputs": [
    {
     "name": "stdout",
     "output_type": "stream",
     "text": [
      "{'x0': 'cdefg', 'x1': 'cdefg', 'x2': 'cdefg', 'x3': 'cdefg', 'x4': 'cdefg', 'x5': 'ab', 'x6': 'ab'}\n"
     ]
    }
   ],
   "source": [
    "for string in patterns[0]:\n",
    "    # identify the number 1\n",
    "    if(len(string)==2):\n",
    "        segment_dict['x5'] = string\n",
    "        segment_dict['x6'] = string\n",
    "        # delete these letters from all the other keys\n",
    "        for letter in string:\n",
    "            for key in ['x0', 'x1', 'x2', 'x3', 'x4']:\n",
    "                segment_dict[key] = segment_dict[key].replace(letter, \"\")\n",
    "            \n",
    "\n",
    "print(segment_dict)            \n",
    "    "
   ]
  },
  {
   "cell_type": "markdown",
   "metadata": {},
   "source": [
    "2. Compare numbers 1 and 7. This should give you exactly one letter that falls in position x0"
   ]
  },
  {
   "cell_type": "code",
   "execution_count": 155,
   "metadata": {},
   "outputs": [
    {
     "name": "stdout",
     "output_type": "stream",
     "text": [
      "{'x0': 'd', 'x1': 'cdefg', 'x2': 'cdefg', 'x3': 'cdefg', 'x4': 'cdefg', 'x5': 'ab', 'x6': 'ab'}\n"
     ]
    }
   ],
   "source": [
    "for string in patterns[0]:\n",
    "    # identify the number 1\n",
    "    if(len(string)==2):\n",
    "        num1 = string\n",
    "    # identify the number 7\n",
    "    if(len(string)==3):\n",
    "        segment_dict['x0'] = string\n",
    "\n",
    "for letter in num1:\n",
    "    segment_dict['x0'] = segment_dict['x0'].replace(letter, \"\")\n",
    "    \n",
    "print(segment_dict)"
   ]
  },
  {
   "cell_type": "markdown",
   "metadata": {},
   "source": [
    "3. Identify the number 4. Since the 2 rightmost vertical lines (\"x5\", \"x6\") have been reduced to two options, the other 2 positions in the number 4 (\"x1\", \"x3\") can be reduced to the other two letters."
   ]
  },
  {
   "cell_type": "code",
   "execution_count": 156,
   "metadata": {},
   "outputs": [
    {
     "name": "stdout",
     "output_type": "stream",
     "text": [
      "{'x0': 'd', 'x1': 'ef', 'x2': 'cdefg', 'x3': 'ef', 'x4': 'cdefg', 'x5': 'ab', 'x6': 'ab'}\n"
     ]
    }
   ],
   "source": [
    "for string in patterns[0]:\n",
    "    # identify the number 4\n",
    "    if(len(string)==4):\n",
    "        segment_dict[\"x1\"] = string\n",
    "        segment_dict[\"x3\"] = string\n",
    "        \n",
    "for letter in segment_dict['x5']:\n",
    "    segment_dict['x1'] = segment_dict['x1'].replace(letter, \"\")\n",
    "    segment_dict['x3'] = segment_dict['x3'].replace(letter, \"\")\n",
    "    \n",
    "print(segment_dict)"
   ]
  },
  {
   "cell_type": "markdown",
   "metadata": {},
   "source": [
    "4. use numbers 0, 6, 9 and identify the upper left vertical line (\"x3\"). Since we have narrowed down to only 2 options, that particular letter should show up in all 3 of the numbers. Once identified, use the other letter as the middle horizontal line (\"x1\")."
   ]
  },
  {
   "cell_type": "code",
   "execution_count": 157,
   "metadata": {},
   "outputs": [
    {
     "name": "stdout",
     "output_type": "stream",
     "text": [
      "{'x0': 'd', 'x1': 'f', 'x2': 'cdefg', 'x3': 'e', 'x4': 'cdefg', 'x5': 'ab', 'x6': 'ab'}\n"
     ]
    }
   ],
   "source": [
    "num069 = []\n",
    "for string in patterns[0]:\n",
    "    # identify 0, 6, 9\n",
    "    if(len(string)==6):\n",
    "        num069.append(string)\n",
    "\n",
    "\n",
    "for letter in segment_dict['x3']: # should only be 2 options\n",
    "    for s in num069:              # strings for numbers 0, 6, 9\n",
    "        if not(letter in s):\n",
    "            segment_dict['x3'] = segment_dict['x3'].replace(letter, \"\")\n",
    "            \n",
    "# x3 found, so x1 must be the opposite value\n",
    "segment_dict['x1'] = segment_dict['x1'].replace(segment_dict['x3'], \"\")\n",
    "\n",
    "print(segment_dict)"
   ]
  },
  {
   "cell_type": "markdown",
   "metadata": {},
   "source": [
    "5. use numbers 0, 6, 9 and identify the bottom right vertical line (\"x6\"). Since we have narrowed down to only 2 options, that particular letter should show up in all 3 of the numbers. Once identified, use the other letter as the upper right vertical line (\"x5\")."
   ]
  },
  {
   "cell_type": "code",
   "execution_count": 158,
   "metadata": {},
   "outputs": [
    {
     "name": "stdout",
     "output_type": "stream",
     "text": [
      "{'x0': 'd', 'x1': 'f', 'x2': 'cdefg', 'x3': 'e', 'x4': 'cdefg', 'x5': 'a', 'x6': 'b'}\n"
     ]
    }
   ],
   "source": [
    "for letter in segment_dict['x6']: # should only be 2 options\n",
    "    for s in num069:              # strings for numbers 0, 6, 9\n",
    "        if not(letter in s):\n",
    "            segment_dict['x6'] = segment_dict['x6'].replace(letter, \"\")\n",
    "\n",
    "# x6 found, so x5 must be the opposite value\n",
    "segment_dict['x5'] = segment_dict['x5'].replace(segment_dict['x6'], \"\")\n",
    "            \n",
    "print(segment_dict)"
   ]
  },
  {
   "cell_type": "markdown",
   "metadata": {},
   "source": [
    "6. Positions \"x2\" and \"x4\" should only have two values left, so let's clean out the options in the dictionary"
   ]
  },
  {
   "cell_type": "code",
   "execution_count": 159,
   "metadata": {},
   "outputs": [
    {
     "name": "stdout",
     "output_type": "stream",
     "text": [
      "{'x0': 'd', 'x1': 'f', 'x2': 'cg', 'x3': 'e', 'x4': 'cg', 'x5': 'a', 'x6': 'b'}\n"
     ]
    }
   ],
   "source": [
    "found_letters = []\n",
    "for k in keys:\n",
    "    # if a segment has been identified, should only have 1 possible value\n",
    "    if(len(segment_dict[k])==1): \n",
    "        found_letters.append(segment_dict[k])\n",
    "        \n",
    "for letter in found_letters:\n",
    "    segment_dict['x2'] = segment_dict['x2'].replace(letter, \"\")\n",
    "    segment_dict['x4'] = segment_dict['x4'].replace(letter, \"\")\n",
    "    \n",
    "print(segment_dict)"
   ]
  },
  {
   "cell_type": "markdown",
   "metadata": {},
   "source": [
    "7. use number 2, 3, 5 to identify the bottom horizontal line. this particular letter will appear in all of the length-5 strings. By process of elimination, we should only have one letter left for the bottom left vertical line (\"x4\")"
   ]
  },
  {
   "cell_type": "code",
   "execution_count": 160,
   "metadata": {},
   "outputs": [
    {
     "name": "stdout",
     "output_type": "stream",
     "text": [
      "{'x0': 'd', 'x1': 'f', 'x2': 'c', 'x3': 'e', 'x4': 'g', 'x5': 'a', 'x6': 'b'}\n"
     ]
    }
   ],
   "source": [
    "num235 = []\n",
    "for string in patterns[0]:\n",
    "    # identify 2, 3, 5\n",
    "    if(len(string)==5):\n",
    "        num235.append(string)\n",
    "\n",
    "\n",
    "for letter in segment_dict['x2']: # should only be 2 options\n",
    "    for s in num235:              # strings for numbers 2, 3, 5\n",
    "        if not(letter in s):\n",
    "            segment_dict['x2'] = segment_dict['x2'].replace(letter, \"\")\n",
    "            \n",
    "# x2 found, so x4 must be the opposite value\n",
    "segment_dict['x4'] = segment_dict['x4'].replace(segment_dict['x2'], \"\")\n",
    "\n",
    "print(segment_dict)"
   ]
  },
  {
   "cell_type": "markdown",
   "metadata": {},
   "source": [
    "We've decoded everything! Now let's apply this to the outputs. First build, a number_dict that is decoded"
   ]
  },
  {
   "cell_type": "code",
   "execution_count": 161,
   "metadata": {},
   "outputs": [],
   "source": [
    "decoded_number_dict = {}\n",
    "for k in number_dict.keys():\n",
    "    letters = \"\"\n",
    "    for segment in number_dict[k]:\n",
    "        letters += segment_dict[segment]\n",
    "    decoded_number_dict[k] = letters"
   ]
  },
  {
   "cell_type": "code",
   "execution_count": 162,
   "metadata": {},
   "outputs": [
    {
     "data": {
      "text/plain": [
       "{0: 'dcegab',\n",
       " 1: 'ab',\n",
       " 2: 'dafgc',\n",
       " 3: 'dafbc',\n",
       " 4: 'efab',\n",
       " 5: 'defbc',\n",
       " 6: 'dfcegb',\n",
       " 7: 'dab',\n",
       " 8: 'dfcegab',\n",
       " 9: 'dfceab'}"
      ]
     },
     "execution_count": 162,
     "metadata": {},
     "output_type": "execute_result"
    }
   ],
   "source": [
    "decoded_number_dict"
   ]
  },
  {
   "cell_type": "code",
   "execution_count": 163,
   "metadata": {},
   "outputs": [
    {
     "data": {
      "text/plain": [
       "{'x0': 'd', 'x1': 'f', 'x2': 'c', 'x3': 'e', 'x4': 'g', 'x5': 'a', 'x6': 'b'}"
      ]
     },
     "execution_count": 163,
     "metadata": {},
     "output_type": "execute_result"
    }
   ],
   "source": [
    "segment_dict"
   ]
  },
  {
   "cell_type": "code",
   "execution_count": 164,
   "metadata": {},
   "outputs": [
    {
     "name": "stdout",
     "output_type": "stream",
     "text": [
      "output ['cdfeb', 'fcadb', 'cdfeb', 'cdbaf'] number 5353\n"
     ]
    }
   ],
   "source": [
    "final_num = \"\"\n",
    "for s in outputs[0]:\n",
    "    for k in decoded_number_dict.keys():\n",
    "        if sorted(decoded_number_dict[k]) == sorted(s):\n",
    "            final_num += str(k)\n",
    "            \n",
    "print(\"output\", outputs[0], \"number\", int(final_num)) "
   ]
  },
  {
   "cell_type": "markdown",
   "metadata": {},
   "source": [
    "## Let's iterate through all of the data set now"
   ]
  },
  {
   "cell_type": "code",
   "execution_count": 170,
   "metadata": {},
   "outputs": [
    {
     "name": "stdout",
     "output_type": "stream",
     "text": [
      "Final sum 933305\n"
     ]
    }
   ],
   "source": [
    "final_output_sum = 0\n",
    "for i in range(len(patterns)):\n",
    "    # initialize number dict\n",
    "    number_dict = {}\n",
    "    number_dict[0] = [\"x0\", \"x2\", \"x3\", \"x4\", \"x5\", \"x6\"]\n",
    "    number_dict[1] = [\"x5\", \"x6\"]\n",
    "    number_dict[2] = [\"x0\", \"x5\", \"x1\", \"x4\", \"x2\"]\n",
    "    number_dict[3] = [\"x0\", \"x5\", \"x1\", \"x6\", \"x2\"]\n",
    "    number_dict[4] = [\"x3\", \"x1\", \"x5\", \"x6\"]\n",
    "    number_dict[5] = [\"x0\", \"x3\", \"x1\", \"x6\", \"x2\"]\n",
    "    number_dict[6] = [\"x0\", \"x1\", \"x2\", \"x3\", \"x4\", \"x6\"]\n",
    "    number_dict[7] = [\"x0\", \"x5\", \"x6\"]\n",
    "    number_dict[8] = [\"x0\", \"x1\", \"x2\", \"x3\", \"x4\", \"x5\", \"x6\"]\n",
    "    number_dict[9] = [\"x0\", \"x1\", \"x2\", \"x3\", \"x5\", \"x6\"]\n",
    "    \n",
    "    # initialize segment dict\n",
    "    segment_dict = {}\n",
    "    keys = ['x0', 'x1', 'x2', 'x3', 'x4', 'x5', 'x6']\n",
    "\n",
    "    # initialize each key to hold all of the potential options\n",
    "    for k in keys:\n",
    "        segment_dict[k] = 'abcdefg'\n",
    "\n",
    "    # Step 1\n",
    "    for string in patterns[i]:\n",
    "        # identify the number 1\n",
    "        if(len(string)==2):\n",
    "            segment_dict['x5'] = string\n",
    "            segment_dict['x6'] = string\n",
    "            # delete these letters from all the other keys\n",
    "            for letter in string:\n",
    "                for key in ['x0', 'x1', 'x2', 'x3', 'x4']:\n",
    "                    segment_dict[key] = segment_dict[key].replace(letter, \"\")\n",
    "            \n",
    "       \n",
    "    # step 2\n",
    "    for string in patterns[i]:\n",
    "        # identify the number 1\n",
    "        if(len(string)==2):\n",
    "            num1 = string\n",
    "        # identify the number 7\n",
    "        if(len(string)==3):\n",
    "            segment_dict['x0'] = string\n",
    "\n",
    "    for letter in num1:\n",
    "        segment_dict['x0'] = segment_dict['x0'].replace(letter, \"\")\n",
    "        \n",
    "        \n",
    "    # Step 3\n",
    "    for string in patterns[i]:\n",
    "        # identify the number 4\n",
    "        if(len(string)==4):\n",
    "            segment_dict[\"x1\"] = string\n",
    "            segment_dict[\"x3\"] = string\n",
    "\n",
    "    for letter in segment_dict['x5']:\n",
    "        segment_dict['x1'] = segment_dict['x1'].replace(letter, \"\")\n",
    "        segment_dict['x3'] = segment_dict['x3'].replace(letter, \"\")\n",
    "  \n",
    "\n",
    "    # Step 4\n",
    "    num069 = []\n",
    "    for string in patterns[i]:\n",
    "        # identify 0, 6, 9\n",
    "        if(len(string)==6):\n",
    "            num069.append(string)\n",
    "\n",
    "\n",
    "    for letter in segment_dict['x3']: # should only be 2 options\n",
    "        for s in num069:              # strings for numbers 0, 6, 9\n",
    "            if not(letter in s):\n",
    "                segment_dict['x3'] = segment_dict['x3'].replace(letter, \"\")\n",
    "\n",
    "    # x3 found, so x1 must be the opposite value\n",
    "    segment_dict['x1'] = segment_dict['x1'].replace(segment_dict['x3'], \"\")\n",
    "    \n",
    "    \n",
    "    # Step 5\n",
    "    for letter in segment_dict['x6']: # should only be 2 options\n",
    "        for s in num069:              # strings for numbers 0, 6, 9\n",
    "            if not(letter in s):\n",
    "                segment_dict['x6'] = segment_dict['x6'].replace(letter, \"\")\n",
    "\n",
    "    # x6 found, so x5 must be the opposite value\n",
    "    segment_dict['x5'] = segment_dict['x5'].replace(segment_dict['x6'], \"\")\n",
    "    \n",
    "    \n",
    "    # Step 6\n",
    "    found_letters = []\n",
    "    for k in keys:\n",
    "        # if a segment has been identified, should only have 1 possible value\n",
    "        if(len(segment_dict[k])==1): \n",
    "            found_letters.append(segment_dict[k])\n",
    "\n",
    "    for letter in found_letters:\n",
    "        segment_dict['x2'] = segment_dict['x2'].replace(letter, \"\")\n",
    "        segment_dict['x4'] = segment_dict['x4'].replace(letter, \"\")\n",
    "\n",
    "    \n",
    "    # Step 7\n",
    "    num235 = []\n",
    "    for string in patterns[i]:\n",
    "        # identify 2, 3, 5\n",
    "        if(len(string)==5):\n",
    "            num235.append(string)\n",
    "\n",
    "\n",
    "    for letter in segment_dict['x2']: # should only be 2 options\n",
    "        for s in num235:              # strings for numbers 2, 3, 5\n",
    "            if not(letter in s):\n",
    "                segment_dict['x2'] = segment_dict['x2'].replace(letter, \"\")\n",
    "\n",
    "    # x2 found, so x4 must be the opposite value\n",
    "    segment_dict['x4'] = segment_dict['x4'].replace(segment_dict['x2'], \"\")\n",
    "    \n",
    "    \n",
    "    # Decoding..\n",
    "    decoded_number_dict = {}\n",
    "    for k in number_dict.keys():\n",
    "        letters = \"\"\n",
    "        for segment in number_dict[k]:\n",
    "            letters += segment_dict[segment]\n",
    "        decoded_number_dict[k] = letters\n",
    "        \n",
    "    final_num = \"\"\n",
    "    for s in outputs[i]:\n",
    "        for k in decoded_number_dict.keys():\n",
    "            if sorted(decoded_number_dict[k]) == sorted(s):\n",
    "                final_num += str(k)\n",
    "\n",
    "                \n",
    "    final_output_sum += int(final_num)\n",
    "    \n",
    "    \n",
    "print(\"Final sum\", final_output_sum)"
   ]
  },
  {
   "cell_type": "code",
   "execution_count": null,
   "metadata": {},
   "outputs": [],
   "source": []
  },
  {
   "cell_type": "code",
   "execution_count": null,
   "metadata": {},
   "outputs": [],
   "source": []
  },
  {
   "cell_type": "code",
   "execution_count": null,
   "metadata": {},
   "outputs": [],
   "source": []
  },
  {
   "cell_type": "code",
   "execution_count": null,
   "metadata": {},
   "outputs": [],
   "source": []
  },
  {
   "cell_type": "code",
   "execution_count": null,
   "metadata": {},
   "outputs": [],
   "source": []
  },
  {
   "cell_type": "markdown",
   "metadata": {},
   "source": [
    "## Random test stuff"
   ]
  },
  {
   "cell_type": "code",
   "execution_count": 25,
   "metadata": {},
   "outputs": [
    {
     "name": "stdout",
     "output_type": "stream",
     "text": [
      "fdb 7\n",
      "bgfa 4\n",
      "cedfg 2 or 3 or 5\n",
      "abedcf 0 or 6 or 9\n",
      "defgba 0 or 6 or 9\n",
      "gbaed 2 or 3 or 5\n",
      "dagfbce 8\n",
      "fbged 2 or 3 or 5\n",
      "dgabce 0 or 6 or 9\n",
      "fb 1\n"
     ]
    }
   ],
   "source": [
    "for item in patterns[0]:\n",
    "    if(len(item)==2):\n",
    "        print(item, '1')\n",
    "    elif(len(item)==3):\n",
    "        print(item, '7')\n",
    "    elif(len(item)==4):\n",
    "        print(item, '4')\n",
    "    elif(len(item)==5):\n",
    "        print(item, '2 or 3 or 5')\n",
    "    elif(len(item)==6):\n",
    "        print(item, '0 or 6 or 9')\n",
    "    elif(len(item)==7):\n",
    "        print(item, '8')\n",
    "        "
   ]
  },
  {
   "cell_type": "markdown",
   "metadata": {},
   "source": [
    "1. Find the number 1. This will give you a set of 2 letters which correspond to the two right vertical lines.\n",
    "2. compare numbers 1 and 7. this should tell you exactly which letter goes on the topmost horizontal line.\n",
    "3. look at the string for 4. Since the 2 rightmost vertical lines have been reduced to two options, the other 2 positions in the number 4 can be reduced to the remaining two options.\n",
    "4. use numbers 0, 6, 9 and identify the upper left vertical line. Since we have narrowed down to only 2 options, that particular letter should show up in all 3 of the numbers. Once identified, use the other letter as the middle horizontal line.\n",
    "5. use numbers 0, 6, 9 and identify the bottom right vertical line. Since we have narrowed down to only 2 options, that particular letter should show up in all 3 of the numbers. Once identified, use the other letter as the middle horizontal line.\n",
    "6. now we only have 2 options remaining for the bottom left vertical line and bottom horizontal line\n",
    "7. use number 2, 3, 5 to identify the bottom horizontal line. this particular letter will appear in all of the length-5 strings. By process of elimination, we should only have one letter left for the bottom left vertical line"
   ]
  },
  {
   "cell_type": "code",
   "execution_count": 34,
   "metadata": {},
   "outputs": [
    {
     "data": {
      "text/plain": [
       "'runecape'"
      ]
     },
     "execution_count": 34,
     "metadata": {},
     "output_type": "execute_result"
    }
   ],
   "source": [
    "\"runescape\".replace(\"s\", \"\")"
   ]
  },
  {
   "cell_type": "code",
   "execution_count": null,
   "metadata": {},
   "outputs": [],
   "source": []
  }
 ],
 "metadata": {
  "kernelspec": {
   "display_name": "Python 3",
   "language": "python",
   "name": "python3"
  },
  "language_info": {
   "codemirror_mode": {
    "name": "ipython",
    "version": 3
   },
   "file_extension": ".py",
   "mimetype": "text/x-python",
   "name": "python",
   "nbconvert_exporter": "python",
   "pygments_lexer": "ipython3",
   "version": "3.8.6"
  }
 },
 "nbformat": 4,
 "nbformat_minor": 4
}
