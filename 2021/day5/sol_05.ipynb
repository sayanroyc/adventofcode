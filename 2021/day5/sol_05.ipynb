{
 "cells": [
  {
   "cell_type": "markdown",
   "metadata": {},
   "source": [
    "# Day 5"
   ]
  },
  {
   "cell_type": "code",
   "execution_count": 29,
   "metadata": {},
   "outputs": [],
   "source": [
    "import numpy as np\n",
    "import pandas as pd\n",
    "\n",
    "with open(\"input.txt\") as f:\n",
    "    data = f.readlines() #.replace(\" -> \",\",\").split(\",\")\n",
    "# bingo_numbers = np.asarray(bingo_numbers).astype(int)\n",
    "# data = np.genfromtxt(\"input.txt\", skip_header=2)\n",
    "# data = np.genfromtxt(\"input.txt\", dtype=str)\n",
    "\n",
    "cols = [\"x1\", \"y1\", \"x2\", \"y2\"]\n",
    "data = [l.rstrip().replace(\" -> \",\",\").split(\",\") for l in data]\n",
    "data_df = pd.DataFrame(data, columns = cols).astype('int')"
   ]
  },
  {
   "cell_type": "code",
   "execution_count": 30,
   "metadata": {},
   "outputs": [
    {
     "data": {
      "text/html": [
       "<div>\n",
       "<style scoped>\n",
       "    .dataframe tbody tr th:only-of-type {\n",
       "        vertical-align: middle;\n",
       "    }\n",
       "\n",
       "    .dataframe tbody tr th {\n",
       "        vertical-align: top;\n",
       "    }\n",
       "\n",
       "    .dataframe thead th {\n",
       "        text-align: right;\n",
       "    }\n",
       "</style>\n",
       "<table border=\"1\" class=\"dataframe\">\n",
       "  <thead>\n",
       "    <tr style=\"text-align: right;\">\n",
       "      <th></th>\n",
       "      <th>x1</th>\n",
       "      <th>y1</th>\n",
       "      <th>x2</th>\n",
       "      <th>y2</th>\n",
       "    </tr>\n",
       "  </thead>\n",
       "  <tbody>\n",
       "    <tr>\n",
       "      <th>0</th>\n",
       "      <td>72</td>\n",
       "      <td>504</td>\n",
       "      <td>422</td>\n",
       "      <td>154</td>\n",
       "    </tr>\n",
       "    <tr>\n",
       "      <th>1</th>\n",
       "      <td>877</td>\n",
       "      <td>851</td>\n",
       "      <td>680</td>\n",
       "      <td>654</td>\n",
       "    </tr>\n",
       "    <tr>\n",
       "      <th>2</th>\n",
       "      <td>447</td>\n",
       "      <td>989</td>\n",
       "      <td>517</td>\n",
       "      <td>989</td>\n",
       "    </tr>\n",
       "    <tr>\n",
       "      <th>3</th>\n",
       "      <td>173</td>\n",
       "      <td>125</td>\n",
       "      <td>981</td>\n",
       "      <td>933</td>\n",
       "    </tr>\n",
       "    <tr>\n",
       "      <th>4</th>\n",
       "      <td>736</td>\n",
       "      <td>255</td>\n",
       "      <td>374</td>\n",
       "      <td>617</td>\n",
       "    </tr>\n",
       "    <tr>\n",
       "      <th>...</th>\n",
       "      <td>...</td>\n",
       "      <td>...</td>\n",
       "      <td>...</td>\n",
       "      <td>...</td>\n",
       "    </tr>\n",
       "    <tr>\n",
       "      <th>495</th>\n",
       "      <td>565</td>\n",
       "      <td>568</td>\n",
       "      <td>708</td>\n",
       "      <td>568</td>\n",
       "    </tr>\n",
       "    <tr>\n",
       "      <th>496</th>\n",
       "      <td>220</td>\n",
       "      <td>198</td>\n",
       "      <td>825</td>\n",
       "      <td>198</td>\n",
       "    </tr>\n",
       "    <tr>\n",
       "      <th>497</th>\n",
       "      <td>24</td>\n",
       "      <td>984</td>\n",
       "      <td>50</td>\n",
       "      <td>984</td>\n",
       "    </tr>\n",
       "    <tr>\n",
       "      <th>498</th>\n",
       "      <td>488</td>\n",
       "      <td>366</td>\n",
       "      <td>292</td>\n",
       "      <td>366</td>\n",
       "    </tr>\n",
       "    <tr>\n",
       "      <th>499</th>\n",
       "      <td>220</td>\n",
       "      <td>137</td>\n",
       "      <td>739</td>\n",
       "      <td>656</td>\n",
       "    </tr>\n",
       "  </tbody>\n",
       "</table>\n",
       "<p>500 rows × 4 columns</p>\n",
       "</div>"
      ],
      "text/plain": [
       "      x1   y1   x2   y2\n",
       "0     72  504  422  154\n",
       "1    877  851  680  654\n",
       "2    447  989  517  989\n",
       "3    173  125  981  933\n",
       "4    736  255  374  617\n",
       "..   ...  ...  ...  ...\n",
       "495  565  568  708  568\n",
       "496  220  198  825  198\n",
       "497   24  984   50  984\n",
       "498  488  366  292  366\n",
       "499  220  137  739  656\n",
       "\n",
       "[500 rows x 4 columns]"
      ]
     },
     "execution_count": 30,
     "metadata": {},
     "output_type": "execute_result"
    }
   ],
   "source": [
    "data_df"
   ]
  },
  {
   "cell_type": "code",
   "execution_count": 106,
   "metadata": {},
   "outputs": [],
   "source": [
    "# set the bounds of the grid\n",
    "# x_min = min(data_df[\"x1\"].min(), data_df[\"x2\"].min())\n",
    "x_min = 0\n",
    "x_max = max(data_df[\"x1\"].max(), data_df[\"x2\"].max())\n",
    "\n",
    "# y_min = min(data_df[\"y1\"].min(), data_df[\"y2\"].min())\n",
    "y_min = 0\n",
    "y_max = max(data_df[\"y1\"].max(), data_df[\"y2\"].max())\n",
    "\n",
    "# build grid\n",
    "grid = np.zeros((x_max+1, y_max+1))"
   ]
  },
  {
   "cell_type": "code",
   "execution_count": 107,
   "metadata": {},
   "outputs": [
    {
     "data": {
      "text/plain": [
       "(990, 990)"
      ]
     },
     "execution_count": 107,
     "metadata": {},
     "output_type": "execute_result"
    }
   ],
   "source": [
    "grid.shape"
   ]
  },
  {
   "cell_type": "markdown",
   "metadata": {},
   "source": [
    "## Part 1"
   ]
  },
  {
   "cell_type": "code",
   "execution_count": 108,
   "metadata": {},
   "outputs": [],
   "source": [
    "# acquire only horizontal or vertical lines\n",
    "horizontal_data_df = data_df[data_df[\"y1\"]==data_df[\"y2\"]]\n",
    "vertical_data_df = data_df[data_df[\"x1\"]==data_df[\"x2\"]]"
   ]
  },
  {
   "cell_type": "code",
   "execution_count": 109,
   "metadata": {},
   "outputs": [],
   "source": [
    "# iterate through horizontal lines, incrementing the counter in grid array\n",
    "# if the line passes through the point\n",
    "for index, row in horizontal_data_df.iterrows():\n",
    "    x_start = min(row[\"x1\"], row[\"x2\"])\n",
    "    x_end = max(row[\"x1\"], row[\"x2\"])\n",
    "    \n",
    "    x_range = np.arange(x_start, x_end+1) # +1 is so we include x_end in our set\n",
    "    \n",
    "    for x in x_range:\n",
    "        grid[x][row[\"y1\"]] += 1"
   ]
  },
  {
   "cell_type": "code",
   "execution_count": 110,
   "metadata": {},
   "outputs": [],
   "source": [
    "# iterate through vertical lines, incrementing the counter in grid array\n",
    "# if the line passes through the point\n",
    "for index, row in vertical_data_df.iterrows():\n",
    "    y_start = min(row[\"y1\"], row[\"y2\"])\n",
    "    y_end = max(row[\"y1\"], row[\"y2\"])\n",
    "    \n",
    "    y_range = np.arange(y_start, y_end+1) # +1 is so we include y_end in our set\n",
    "    \n",
    "    for y in y_range:\n",
    "        grid[row[\"x1\"]][y] += 1"
   ]
  },
  {
   "cell_type": "code",
   "execution_count": 111,
   "metadata": {},
   "outputs": [
    {
     "data": {
      "text/plain": [
       "6666"
      ]
     },
     "execution_count": 111,
     "metadata": {},
     "output_type": "execute_result"
    }
   ],
   "source": [
    "# retrieve the number of grid points where the count >= 2\n",
    "np.size(np.where(grid >= 2)[0])"
   ]
  },
  {
   "cell_type": "markdown",
   "metadata": {},
   "source": [
    "## Part 2"
   ]
  },
  {
   "cell_type": "code",
   "execution_count": 116,
   "metadata": {},
   "outputs": [],
   "source": [
    "## add on diagonals"
   ]
  },
  {
   "cell_type": "code",
   "execution_count": 113,
   "metadata": {},
   "outputs": [],
   "source": [
    "diagonal_data_df = data_df[(data_df[\"x1\"]!=data_df[\"x2\"]) & (data_df[\"y1\"]!=data_df[\"y2\"])]"
   ]
  },
  {
   "cell_type": "code",
   "execution_count": 114,
   "metadata": {},
   "outputs": [],
   "source": [
    "# now let's iterate through the diagonal data points\n",
    "for index, row in diagonal_data_df.iterrows():\n",
    "    x_start = row[\"x1\"]\n",
    "    x_end = row[\"x2\"]\n",
    "    \n",
    "    if x_start < x_end:\n",
    "        x_range = np.arange(x_start, x_end+1)\n",
    "    else:\n",
    "        x_range = np.arange(x_start, x_end-1, -1)\n",
    "\n",
    "    y_start = row[\"y1\"]\n",
    "    y_end = row[\"y2\"]\n",
    "    \n",
    "    if y_start < y_end:\n",
    "        y_range = np.arange(y_start, y_end+1)\n",
    "    else:\n",
    "        y_range = np.arange(y_start, y_end-1, -1)\n",
    "    \n",
    "    list_of_points = list(zip(x_range, y_range))\n",
    "    \n",
    "    \n",
    "    for pt in list_of_points:\n",
    "        grid[pt[0]][pt[1]] += 1"
   ]
  },
  {
   "cell_type": "code",
   "execution_count": 117,
   "metadata": {},
   "outputs": [
    {
     "data": {
      "text/plain": [
       "19081"
      ]
     },
     "execution_count": 117,
     "metadata": {},
     "output_type": "execute_result"
    }
   ],
   "source": [
    "# retrieve the number of grid points where the count >= 2\n",
    "np.size(np.where(grid >= 2)[0])"
   ]
  },
  {
   "cell_type": "markdown",
   "metadata": {},
   "source": [
    "### Attempt process all data in one loop rather than individual"
   ]
  },
  {
   "cell_type": "code",
   "execution_count": 120,
   "metadata": {},
   "outputs": [],
   "source": [
    "# reset the grid values to 0\n",
    "\n",
    "# set the bounds of the grid\n",
    "x_max = max(data_df[\"x1\"].max(), data_df[\"x2\"].max())\n",
    "y_max = max(data_df[\"y1\"].max(), data_df[\"y2\"].max())\n",
    "\n",
    "# build grid\n",
    "grid = np.zeros((x_max+1, y_max+1))"
   ]
  },
  {
   "cell_type": "code",
   "execution_count": 121,
   "metadata": {},
   "outputs": [],
   "source": [
    "for index, row in data_df.iterrows():\n",
    "    # case 1: horizontal_data\n",
    "    if (row[\"y1\"]==row[\"y2\"]):\n",
    "        x_start = min(row[\"x1\"], row[\"x2\"])\n",
    "        x_end = max(row[\"x1\"], row[\"x2\"])\n",
    "\n",
    "        x_range = np.arange(x_start, x_end+1) # +1 is so we include x_end in our set\n",
    "\n",
    "        for x in x_range:\n",
    "            grid[x][row[\"y1\"]] += 1\n",
    "        \n",
    "    # case 2: vertical_data\n",
    "    elif (row[\"x1\"]==row[\"x2\"]):\n",
    "        y_start = min(row[\"y1\"], row[\"y2\"])\n",
    "        y_end = max(row[\"y1\"], row[\"y2\"])\n",
    "\n",
    "        y_range = np.arange(y_start, y_end+1) # +1 is so we include y_end in our set\n",
    "\n",
    "        for y in y_range:\n",
    "            grid[row[\"x1\"]][y] += 1 \n",
    "\n",
    "    # case 3: diagonal data\n",
    "    else:\n",
    "        x_start = row[\"x1\"]\n",
    "        x_end = row[\"x2\"]\n",
    "\n",
    "        if x_start < x_end:\n",
    "            x_range = np.arange(x_start, x_end+1)\n",
    "        else:\n",
    "            x_range = np.arange(x_start, x_end-1, -1)\n",
    "\n",
    "        y_start = row[\"y1\"]\n",
    "        y_end = row[\"y2\"]\n",
    "\n",
    "        if y_start < y_end:\n",
    "            y_range = np.arange(y_start, y_end+1)\n",
    "        else:\n",
    "            y_range = np.arange(y_start, y_end-1, -1)\n",
    "\n",
    "        list_of_points = list(zip(x_range, y_range))\n",
    "\n",
    "\n",
    "        for pt in list_of_points:\n",
    "            grid[pt[0]][pt[1]] += 1"
   ]
  },
  {
   "cell_type": "code",
   "execution_count": 122,
   "metadata": {},
   "outputs": [
    {
     "data": {
      "text/plain": [
       "19081"
      ]
     },
     "execution_count": 122,
     "metadata": {},
     "output_type": "execute_result"
    }
   ],
   "source": [
    "# retrieve the number of grid points where the count >= 2\n",
    "np.size(np.where(grid >= 2)[0])"
   ]
  },
  {
   "cell_type": "code",
   "execution_count": null,
   "metadata": {},
   "outputs": [],
   "source": []
  }
 ],
 "metadata": {
  "kernelspec": {
   "display_name": "Python 3",
   "language": "python",
   "name": "python3"
  },
  "language_info": {
   "codemirror_mode": {
    "name": "ipython",
    "version": 3
   },
   "file_extension": ".py",
   "mimetype": "text/x-python",
   "name": "python",
   "nbconvert_exporter": "python",
   "pygments_lexer": "ipython3",
   "version": "3.8.6"
  }
 },
 "nbformat": 4,
 "nbformat_minor": 4
}
