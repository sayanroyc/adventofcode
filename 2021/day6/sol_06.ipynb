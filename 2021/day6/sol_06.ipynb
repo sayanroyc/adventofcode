{
 "cells": [
  {
   "cell_type": "markdown",
   "metadata": {},
   "source": [
    "# Day 6"
   ]
  },
  {
   "cell_type": "code",
   "execution_count": 24,
   "metadata": {},
   "outputs": [],
   "source": [
    "import numpy as np\n",
    "import pandas as pd\n",
    "\n",
    "with open(\"input.txt\") as f:\n",
    "    data = f.readlines()\n",
    "\n",
    "# all data is on line 1\n",
    "data = [l.rstrip().replace(\" -> \",\",\").split(\",\") for l in data][0]\n",
    "\n",
    "# integer-ize data\n",
    "data = [int(d) for d in data]"
   ]
  },
  {
   "cell_type": "markdown",
   "metadata": {},
   "source": [
    "## Part 1"
   ]
  },
  {
   "cell_type": "code",
   "execution_count": 46,
   "metadata": {},
   "outputs": [
    {
     "name": "stdout",
     "output_type": "stream",
     "text": [
      "Init state: {0: 0, 1: 80, 2: 53, 3: 51, 4: 63, 5: 53, 6: 0, 7: 0, 8: 0}\n"
     ]
    }
   ],
   "source": [
    "# build dictionary of key-value pairs where\n",
    "# key: internal timer\n",
    "# value: number of fish with that particular\n",
    "key_list = np.arange(0, 9) # [0, 8]\n",
    "lf_dict = {}\n",
    "for k in key_list:\n",
    "    lf_dict[k] = 0\n",
    "    \n",
    "# read in data into dictionary\n",
    "for d in data:\n",
    "    lf_dict[d] += 1\n",
    "    \n",
    "print(\"Init state:\", lf_dict)"
   ]
  },
  {
   "cell_type": "code",
   "execution_count": 47,
   "metadata": {},
   "outputs": [],
   "source": [
    "num_days = 80\n",
    "for t in range(num_days):\n",
    "    num_babies = lf_dict[0]\n",
    "    for k in key_list:\n",
    "        if(k < 8):\n",
    "            lf_dict[k] = lf_dict[k+1]\n",
    "            \n",
    "    lf_dict[8] = num_babies\n",
    "    lf_dict[6] += num_babies"
   ]
  },
  {
   "cell_type": "code",
   "execution_count": 48,
   "metadata": {},
   "outputs": [
    {
     "data": {
      "text/plain": [
       "{0: 26629,\n",
       " 1: 40621,\n",
       " 2: 34047,\n",
       " 3: 45010,\n",
       " 4: 44122,\n",
       " 5: 46019,\n",
       " 6: 57426,\n",
       " 7: 23117,\n",
       " 8: 32558}"
      ]
     },
     "execution_count": 48,
     "metadata": {},
     "output_type": "execute_result"
    }
   ],
   "source": [
    "lf_dict"
   ]
  },
  {
   "cell_type": "code",
   "execution_count": 49,
   "metadata": {},
   "outputs": [
    {
     "name": "stdout",
     "output_type": "stream",
     "text": [
      "There are 349549 lanternfish after 80 days\n"
     ]
    }
   ],
   "source": [
    "total_fish = 0\n",
    "for k in key_list:\n",
    "    total_fish += lf_dict[k]\n",
    "    \n",
    "print(\"There are\", total_fish, \"lanternfish after\", num_days, \"days\")"
   ]
  },
  {
   "cell_type": "markdown",
   "metadata": {},
   "source": [
    "## Part 2"
   ]
  },
  {
   "cell_type": "code",
   "execution_count": 50,
   "metadata": {},
   "outputs": [
    {
     "name": "stdout",
     "output_type": "stream",
     "text": [
      "Init state: {0: 0, 1: 80, 2: 53, 3: 51, 4: 63, 5: 53, 6: 0, 7: 0, 8: 0}\n"
     ]
    }
   ],
   "source": [
    "# build dictionary of key-value pairs where\n",
    "# key: internal timer\n",
    "# value: number of fish with that particular\n",
    "key_list = np.arange(0, 9) # [0, 8]\n",
    "lf_dict = {}\n",
    "for k in key_list:\n",
    "    lf_dict[k] = 0\n",
    "    \n",
    "# read in data into dictionary\n",
    "for d in data:\n",
    "    lf_dict[d] += 1\n",
    "    \n",
    "print(\"Init state:\", lf_dict)"
   ]
  },
  {
   "cell_type": "code",
   "execution_count": 51,
   "metadata": {},
   "outputs": [],
   "source": [
    "num_days = 256\n",
    "for t in range(num_days):\n",
    "    num_babies = lf_dict[0]\n",
    "    for k in key_list:\n",
    "        if(k < 8):\n",
    "            lf_dict[k] = lf_dict[k+1]\n",
    "            \n",
    "    lf_dict[8] = num_babies\n",
    "    lf_dict[6] += num_babies"
   ]
  },
  {
   "cell_type": "code",
   "execution_count": 52,
   "metadata": {},
   "outputs": [
    {
     "name": "stdout",
     "output_type": "stream",
     "text": [
      "There are 1589590444365 lanternfish after 256 days\n"
     ]
    }
   ],
   "source": [
    "total_fish = 0\n",
    "for k in key_list:\n",
    "    total_fish += lf_dict[k]\n",
    "    \n",
    "print(\"There are\", total_fish, \"lanternfish after\", num_days, \"days\")"
   ]
  },
  {
   "cell_type": "code",
   "execution_count": null,
   "metadata": {},
   "outputs": [],
   "source": []
  }
 ],
 "metadata": {
  "kernelspec": {
   "display_name": "Python 3",
   "language": "python",
   "name": "python3"
  },
  "language_info": {
   "codemirror_mode": {
    "name": "ipython",
    "version": 3
   },
   "file_extension": ".py",
   "mimetype": "text/x-python",
   "name": "python",
   "nbconvert_exporter": "python",
   "pygments_lexer": "ipython3",
   "version": "3.8.6"
  }
 },
 "nbformat": 4,
 "nbformat_minor": 4
}
