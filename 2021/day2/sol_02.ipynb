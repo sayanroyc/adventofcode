{
 "cells": [
  {
   "cell_type": "markdown",
   "metadata": {},
   "source": [
    "# Day 2"
   ]
  },
  {
   "cell_type": "code",
   "execution_count": 1,
   "metadata": {},
   "outputs": [],
   "source": [
    "import numpy as np"
   ]
  },
  {
   "cell_type": "markdown",
   "metadata": {},
   "source": [
    "## Part 1"
   ]
  },
  {
   "cell_type": "code",
   "execution_count": 5,
   "metadata": {},
   "outputs": [],
   "source": [
    "data = np.loadtxt('input.txt', dtype=str)"
   ]
  },
  {
   "cell_type": "code",
   "execution_count": 11,
   "metadata": {},
   "outputs": [
    {
     "name": "stdout",
     "output_type": "stream",
     "text": [
      "Mult value 1855814\n"
     ]
    }
   ],
   "source": [
    "h_pos = 0\n",
    "v_pos = 0\n",
    "\n",
    "for i in data:\n",
    "    if(i[0] == \"forward\"):\n",
    "        h_pos += int(i[1])\n",
    "    elif(i[0] == \"down\"):\n",
    "        v_pos += int(i[1])\n",
    "    elif(i[0] == \"up\"):\n",
    "        v_pos -= int(i[1])\n",
    "    else:\n",
    "        print(\"what are you doin lmao\")\n",
    "\n",
    "print(\"Mult value\", h_pos*v_pos)"
   ]
  },
  {
   "cell_type": "markdown",
   "metadata": {},
   "source": [
    "## Part 2"
   ]
  },
  {
   "cell_type": "code",
   "execution_count": 12,
   "metadata": {},
   "outputs": [
    {
     "name": "stdout",
     "output_type": "stream",
     "text": [
      "Mult value 1845455714\n"
     ]
    }
   ],
   "source": [
    "h_pos = 0\n",
    "v_pos = 0\n",
    "aim = 0\n",
    "\n",
    "for i in data:\n",
    "    if(i[0] == \"forward\"):\n",
    "        h_pos += int(i[1])\n",
    "        v_pos += aim*int(i[1])\n",
    "    elif(i[0] == \"down\"):\n",
    "        aim += int(i[1])\n",
    "    elif(i[0] == \"up\"):\n",
    "        aim -= int(i[1])\n",
    "    else:\n",
    "        print(\"what are you doin lmao\")\n",
    "\n",
    "print(\"Mult value\", h_pos*v_pos)"
   ]
  },
  {
   "cell_type": "code",
   "execution_count": null,
   "metadata": {},
   "outputs": [],
   "source": []
  }
 ],
 "metadata": {
  "kernelspec": {
   "display_name": "Python 3",
   "language": "python",
   "name": "python3"
  },
  "language_info": {
   "codemirror_mode": {
    "name": "ipython",
    "version": 3
   },
   "file_extension": ".py",
   "mimetype": "text/x-python",
   "name": "python",
   "nbconvert_exporter": "python",
   "pygments_lexer": "ipython3",
   "version": "3.8.6"
  }
 },
 "nbformat": 4,
 "nbformat_minor": 4
}
