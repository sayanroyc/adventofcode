{
 "cells": [
  {
   "cell_type": "markdown",
   "metadata": {},
   "source": [
    "# Part 1"
   ]
  },
  {
   "cell_type": "code",
   "execution_count": 45,
   "metadata": {},
   "outputs": [],
   "source": [
    "fname = \"input.txt\"\n",
    "with open(fname) as file:\n",
    "    lines = [line.rstrip() for line in file]\n",
    "# print(lines)\n",
    "data = []\n",
    "for l in lines:\n",
    "    halfway_pt = int(len(l)/2)\n",
    "#     print(halfway_pt)\n",
    "#     print(l)\n",
    "    data.append([l[0:halfway_pt], l[halfway_pt:]])"
   ]
  },
  {
   "cell_type": "code",
   "execution_count": 47,
   "metadata": {},
   "outputs": [
    {
     "name": "stdout",
     "output_type": "stream",
     "text": [
      "7848\n"
     ]
    }
   ],
   "source": [
    "# figure out which letters are shared in both\n",
    "running_prio = 0\n",
    "for d in data:\n",
    "    common_item = None\n",
    "    for item1 in d[0]:\n",
    "        for item2 in d[1]:\n",
    "            if(item1 == item2):\n",
    "                common_item = item1\n",
    "#     print(common_item)\n",
    "    if(common_item == None):\n",
    "        continue\n",
    "    if common_item.islower():\n",
    "        priority = ord(common_item)-96\n",
    "    else:\n",
    "        priority = ord(common_item)-38\n",
    "    \n",
    "    running_prio += priority\n",
    "    \n",
    "print(running_prio)"
   ]
  },
  {
   "cell_type": "markdown",
   "metadata": {},
   "source": [
    "# Part 2"
   ]
  },
  {
   "cell_type": "code",
   "execution_count": 64,
   "metadata": {},
   "outputs": [],
   "source": [
    "fname = \"input.txt\"\n",
    "with open(fname) as file:\n",
    "    lines = [line.rstrip() for line in file]\n",
    "# print(lines)\n",
    "data = []\n",
    "curr_group = []\n",
    "for l in lines:\n",
    "    if(len(curr_group) < 3):\n",
    "        curr_group.append(l)\n",
    "    if(len(curr_group) == 3):\n",
    "        data.append(curr_group)\n",
    "        curr_group = []"
   ]
  },
  {
   "cell_type": "code",
   "execution_count": 65,
   "metadata": {},
   "outputs": [
    {
     "name": "stdout",
     "output_type": "stream",
     "text": [
      "2616\n"
     ]
    }
   ],
   "source": [
    "running_prio = 0\n",
    "for d in data:\n",
    "    common_item = None\n",
    "    potential_common_items = []\n",
    "    for item1 in d[0]:\n",
    "        for item2 in d[1]:\n",
    "            if(item1 == item2):\n",
    "                potential_common_items.append(item1)\n",
    "#     print(set(potential_common_items))\n",
    "    for item1 in set(potential_common_items):\n",
    "        for item2 in d[2]:\n",
    "            if(item1 == item2):\n",
    "                common_item = item1\n",
    "#     print(common_item) \n",
    "    if(common_item == None):\n",
    "        continue\n",
    "    if common_item.islower():\n",
    "        priority = ord(common_item)-96\n",
    "    else:\n",
    "        priority = ord(common_item)-38\n",
    "    \n",
    "    running_prio += priority\n",
    "    \n",
    "print(running_prio)"
   ]
  },
  {
   "cell_type": "code",
   "execution_count": null,
   "metadata": {},
   "outputs": [],
   "source": []
  }
 ],
 "metadata": {
  "kernelspec": {
   "display_name": "Python 3",
   "language": "python",
   "name": "python3"
  },
  "language_info": {
   "codemirror_mode": {
    "name": "ipython",
    "version": 3
   },
   "file_extension": ".py",
   "mimetype": "text/x-python",
   "name": "python",
   "nbconvert_exporter": "python",
   "pygments_lexer": "ipython3",
   "version": "3.8.6"
  }
 },
 "nbformat": 4,
 "nbformat_minor": 4
}
