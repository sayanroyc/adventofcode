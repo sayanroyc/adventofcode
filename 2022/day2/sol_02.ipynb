{
 "cells": [
  {
   "cell_type": "code",
   "execution_count": 2,
   "metadata": {},
   "outputs": [],
   "source": [
    "import numpy as np"
   ]
  },
  {
   "cell_type": "code",
   "execution_count": 36,
   "metadata": {},
   "outputs": [],
   "source": [
    "fname = \"input.txt\"\n",
    "# data = np.genfromtxt(fname, delimiter=\" \", dtype=np.char)\n",
    "with open(fname) as file:\n",
    "    lines = [line.rstrip() for line in file]\n",
    "# print(lines)\n",
    "data = []\n",
    "for l in lines:\n",
    "    data.append(l.split(\" \"))"
   ]
  },
  {
   "cell_type": "markdown",
   "metadata": {},
   "source": [
    "# Part 1"
   ]
  },
  {
   "cell_type": "code",
   "execution_count": 28,
   "metadata": {},
   "outputs": [],
   "source": [
    "# A and X is rock\n",
    "# B and Y is paper\n",
    "# C and Z is scissors\n",
    "shape_score = {\"X\": 1, \"Y\": 2, \"Z\": 3}\n",
    "outcome_score = {\"loss\": 0, \"draw\": 3, \"win\": 6}"
   ]
  },
  {
   "cell_type": "code",
   "execution_count": 29,
   "metadata": {},
   "outputs": [
    {
     "name": "stdout",
     "output_type": "stream",
     "text": [
      "12794\n"
     ]
    }
   ],
   "source": [
    "running_score = 0\n",
    "for line in data:\n",
    "    opponent_shape = line[0]\n",
    "    my_shape = line[1]\n",
    "    \n",
    "    # A and X is rock\n",
    "    # B and Y is paper\n",
    "    # C and Z is scissors\n",
    "    \n",
    "    # winning cases\n",
    "    if((opponent_shape==\"A\" and my_shape==\"Y\") or\n",
    "        (opponent_shape==\"B\" and my_shape==\"Z\") or\n",
    "        (opponent_shape==\"C\" and my_shape==\"X\")):\n",
    "        outcome = \"win\"\n",
    "    # losing cases\n",
    "    elif((opponent_shape==\"A\" and my_shape==\"Z\") or\n",
    "        (opponent_shape==\"B\" and my_shape==\"X\") or\n",
    "        (opponent_shape==\"C\" and my_shape==\"Y\")):\n",
    "        outcome = \"loss\"\n",
    "    # draw cases\n",
    "    elif((opponent_shape==\"A\" and my_shape==\"X\") or\n",
    "        (opponent_shape==\"B\" and my_shape==\"Y\") or\n",
    "        (opponent_shape==\"C\" and my_shape==\"Z\")):\n",
    "        outcome = \"draw\"\n",
    "        \n",
    "    running_score += (shape_score[my_shape] + outcome_score[outcome])\n",
    "    \n",
    "print(running_score)\n"
   ]
  },
  {
   "cell_type": "markdown",
   "metadata": {},
   "source": [
    "# Part 2"
   ]
  },
  {
   "cell_type": "code",
   "execution_count": 48,
   "metadata": {},
   "outputs": [],
   "source": [
    "# A is rock\n",
    "# B is paper\n",
    "# C is scissors\n",
    "# X is loss\n",
    "# Y is draw\n",
    "# Z is win\n",
    "shape_score = {\"rock\": 1, \"paper\": 2, \"scissors\": 3}\n",
    "outcome_score = {\"X\": 0, \"Y\": 3, \"Z\": 6}"
   ]
  },
  {
   "cell_type": "code",
   "execution_count": 49,
   "metadata": {},
   "outputs": [
    {
     "name": "stdout",
     "output_type": "stream",
     "text": [
      "14979\n"
     ]
    }
   ],
   "source": [
    "running_score = 0\n",
    "for line in data:\n",
    "    opponent_shape = line[0]\n",
    "    my_outcome = line[1]\n",
    "    \n",
    "    # A is rock\n",
    "    # B is paper\n",
    "    # C is scissors\n",
    "    # X is loss\n",
    "    # Y is draw\n",
    "    # Z is win\n",
    "    \n",
    "    # cases where I use scissors\n",
    "    if((opponent_shape==\"A\" and my_outcome == \"X\") or\n",
    "        (opponent_shape==\"C\" and my_outcome == \"Y\") or\n",
    "        (opponent_shape==\"B\" and my_outcome == \"Z\")):\n",
    "        my_shape = \"scissors\"\n",
    "    # cases where I use rock\n",
    "    if((opponent_shape==\"B\" and my_outcome == \"X\") or\n",
    "        (opponent_shape==\"A\" and my_outcome == \"Y\") or\n",
    "        (opponent_shape==\"C\" and my_outcome == \"Z\")):\n",
    "        my_shape = \"rock\"\n",
    "    # cases where I use paper\n",
    "    if((opponent_shape==\"C\" and my_outcome == \"X\") or\n",
    "        (opponent_shape==\"B\" and my_outcome == \"Y\") or\n",
    "        (opponent_shape==\"A\" and my_outcome == \"Z\")):\n",
    "        my_shape = \"paper\"   \n",
    "        \n",
    "    \n",
    "    running_score += (shape_score[my_shape] + outcome_score[my_outcome])\n",
    "    \n",
    "print(running_score)\n"
   ]
  },
  {
   "cell_type": "code",
   "execution_count": null,
   "metadata": {},
   "outputs": [],
   "source": []
  }
 ],
 "metadata": {
  "kernelspec": {
   "display_name": "Python 3",
   "language": "python",
   "name": "python3"
  },
  "language_info": {
   "codemirror_mode": {
    "name": "ipython",
    "version": 3
   },
   "file_extension": ".py",
   "mimetype": "text/x-python",
   "name": "python",
   "nbconvert_exporter": "python",
   "pygments_lexer": "ipython3",
   "version": "3.8.6"
  }
 },
 "nbformat": 4,
 "nbformat_minor": 4
}
