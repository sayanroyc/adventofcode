{
 "cells": [
  {
   "cell_type": "code",
   "execution_count": 25,
   "metadata": {},
   "outputs": [],
   "source": [
    "fname = \"input.txt\"\n",
    "with open(fname) as file:\n",
    "    lines = [line.rstrip() for line in file]\n",
    "# print(lines)\n",
    "data = []\n",
    "for l in lines:\n",
    "    data.append(l.split(\",\"))"
   ]
  },
  {
   "cell_type": "markdown",
   "metadata": {},
   "source": [
    "# Part 1"
   ]
  },
  {
   "cell_type": "code",
   "execution_count": 35,
   "metadata": {},
   "outputs": [
    {
     "name": "stdout",
     "output_type": "stream",
     "text": [
      "503\n"
     ]
    }
   ],
   "source": [
    "fully_contained_counter = 0\n",
    "for d in data:\n",
    "    elf1_bounds = d[0].split(\"-\")\n",
    "    elf2_bounds = d[1].split(\"-\")\n",
    "\n",
    "    elf1_bounds = list(map(int, elf1_bounds))\n",
    "    elf2_bounds = list(map(int, elf2_bounds))\n",
    "    \n",
    "    fully_contained = False\n",
    "\n",
    "    # case 1: elf 1 completely inside elf 2\n",
    "    if((elf1_bounds[0] >= elf2_bounds[0]) \n",
    "       and (elf1_bounds[1] <= elf2_bounds[1])):\n",
    "        fully_contained = True\n",
    "\n",
    "    # case 2: elf 2 completely inside elf 1\n",
    "    if((elf2_bounds[0] >= elf1_bounds[0]) \n",
    "       and (elf2_bounds[1] <= elf1_bounds[1])):\n",
    "        fully_contained = True\n",
    "    \n",
    "    if(fully_contained):\n",
    "        fully_contained_counter += 1\n",
    "        \n",
    "print(fully_contained_counter)"
   ]
  },
  {
   "cell_type": "markdown",
   "metadata": {},
   "source": [
    "# Part 2"
   ]
  },
  {
   "cell_type": "code",
   "execution_count": 39,
   "metadata": {},
   "outputs": [
    {
     "name": "stdout",
     "output_type": "stream",
     "text": [
      "827\n"
     ]
    }
   ],
   "source": [
    "overlap_counter = 0\n",
    "for d in data:\n",
    "    elf1_bounds = d[0].split(\"-\")\n",
    "    elf2_bounds = d[1].split(\"-\")\n",
    "\n",
    "    elf1_bounds = list(map(int, elf1_bounds))\n",
    "    elf2_bounds = list(map(int, elf2_bounds))\n",
    "    \n",
    "    overlap_contained = False\n",
    "\n",
    "    if(elf1_bounds[1] >= elf2_bounds[0] and (elf1_bounds[0] <= elf2_bounds[1])):\n",
    "        overlap_contained = True\n",
    "    elif(elf2_bounds[1] >= elf1_bounds[0] and (elf2_bounds[0] <= elf1_bounds[1])):\n",
    "        overlap_contained = True\n",
    "\n",
    "#     if(elf1_bounds[1] >= elf2_bounds[0]):\n",
    "#         overlap_contained = True\n",
    "#     if(elf2_bounds[1] >= elf1_bounds[0]):\n",
    "#         overlap_contained = True\n",
    "        \n",
    "#     if((elf2_bounds[0] >= elf1_bounds[0]) \n",
    "#        and (elf2_bounds[1] <= elf1_bounds[1])):\n",
    "#         overlap_contained = True\n",
    "    \n",
    "    if(overlap_contained):\n",
    "        overlap_counter += 1\n",
    "        \n",
    "print(overlap_counter)"
   ]
  },
  {
   "cell_type": "code",
   "execution_count": null,
   "metadata": {},
   "outputs": [],
   "source": []
  }
 ],
 "metadata": {
  "kernelspec": {
   "display_name": "Python 3",
   "language": "python",
   "name": "python3"
  },
  "language_info": {
   "codemirror_mode": {
    "name": "ipython",
    "version": 3
   },
   "file_extension": ".py",
   "mimetype": "text/x-python",
   "name": "python",
   "nbconvert_exporter": "python",
   "pygments_lexer": "ipython3",
   "version": "3.8.6"
  }
 },
 "nbformat": 4,
 "nbformat_minor": 4
}
