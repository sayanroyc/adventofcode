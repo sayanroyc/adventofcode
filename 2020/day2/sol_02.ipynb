{
 "cells": [
  {
   "cell_type": "markdown",
   "metadata": {},
   "source": [
    "# Day 2"
   ]
  },
  {
   "cell_type": "code",
   "execution_count": 1,
   "metadata": {},
   "outputs": [],
   "source": [
    "import numpy as np"
   ]
  },
  {
   "cell_type": "markdown",
   "metadata": {},
   "source": [
    "## Part 1"
   ]
  },
  {
   "cell_type": "code",
   "execution_count": 2,
   "metadata": {},
   "outputs": [],
   "source": [
    "data = np.genfromtxt(\"input.txt\", dtype=str)"
   ]
  },
  {
   "cell_type": "code",
   "execution_count": 59,
   "metadata": {},
   "outputs": [
    {
     "name": "stdout",
     "output_type": "stream",
     "text": [
      "622\n"
     ]
    }
   ],
   "source": [
    "valid_pwords = 0\n",
    "\n",
    "for i in data:\n",
    "# i = data[3]\n",
    "#     print(i)\n",
    "    letter_min = int(i[0].split('-')[0]) # number minimum\n",
    "    letter_max = int(i[0].split('-')[1]) # number maximum\n",
    "    letter = i[1][0]\n",
    "    password = i[2]\n",
    "\n",
    "    succmysack = np.char.count(password, letter)\n",
    "\n",
    "    if (succmysack >= letter_min and succmysack <= letter_max):\n",
    "        valid_pwords += 1\n",
    "        \n",
    "print(valid_pwords)"
   ]
  },
  {
   "cell_type": "code",
   "execution_count": 56,
   "metadata": {},
   "outputs": [
    {
     "name": "stdout",
     "output_type": "stream",
     "text": [
      "1 13 p spppppppppppvp 0 12 1\n"
     ]
    }
   ],
   "source": [
    "print(letter_min, letter_max, letter, password, occurrences, succmysack, valid_pwords)"
   ]
  },
  {
   "cell_type": "markdown",
   "metadata": {},
   "source": [
    "## Part 2"
   ]
  },
  {
   "cell_type": "code",
   "execution_count": 71,
   "metadata": {},
   "outputs": [
    {
     "name": "stdout",
     "output_type": "stream",
     "text": [
      "263\n"
     ]
    }
   ],
   "source": [
    "valid_pwords = 0\n",
    "\n",
    "for i in data:\n",
    "# i = data[3]\n",
    "#     print(i)\n",
    "    letter_pos1 = int(i[0].split('-')[0]) # position 1\n",
    "    letter_pos2 = int(i[0].split('-')[1]) # position 2\n",
    "    letter = i[1][0]\n",
    "    password = i[2]\n",
    "\n",
    "    if ((letter == password[letter_pos1-1]) !=\n",
    "        (letter == password[letter_pos2-1])):\n",
    "        valid_pwords += 1\n",
    "        \n",
    "print(valid_pwords)"
   ]
  },
  {
   "cell_type": "code",
   "execution_count": null,
   "metadata": {},
   "outputs": [],
   "source": []
  }
 ],
 "metadata": {
  "kernelspec": {
   "display_name": "Python 3",
   "language": "python",
   "name": "python3"
  },
  "language_info": {
   "codemirror_mode": {
    "name": "ipython",
    "version": 3
   },
   "file_extension": ".py",
   "mimetype": "text/x-python",
   "name": "python",
   "nbconvert_exporter": "python",
   "pygments_lexer": "ipython3",
   "version": "3.8.6"
  }
 },
 "nbformat": 4,
 "nbformat_minor": 4
}
