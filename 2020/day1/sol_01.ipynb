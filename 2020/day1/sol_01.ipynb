{
 "cells": [
  {
   "cell_type": "markdown",
   "metadata": {},
   "source": [
    "# Day 1"
   ]
  },
  {
   "cell_type": "code",
   "execution_count": 53,
   "metadata": {},
   "outputs": [],
   "source": [
    "import numpy as np"
   ]
  },
  {
   "cell_type": "markdown",
   "metadata": {},
   "source": [
    "## Part 1\n",
    "For a small data set, we can simply iterate through each element in the array, and check if the sum comes to 2020 - $O(n^2)$. Two upgrades I can think of are \n",
    "\n",
    "(1) first order the array and then take out all the elements $j$ such that $i+j > 2020$, which can eliminate a bunch of values. Think this comes to $O(nlogn)$\n",
    "\n",
    "(2) simply search for $2020-i$ in the data set. I think numpy is optimized so that this is not another $O(n^2)$ operation but I'm not sure.\n",
    "\n",
    "I will implement (2) here"
   ]
  },
  {
   "cell_type": "code",
   "execution_count": 54,
   "metadata": {},
   "outputs": [],
   "source": [
    "data = np.loadtxt('input.txt')"
   ]
  },
  {
   "cell_type": "code",
   "execution_count": 55,
   "metadata": {},
   "outputs": [
    {
     "name": "stdout",
     "output_type": "stream",
     "text": [
      "911.0 1109.0 1010299.0\n"
     ]
    }
   ],
   "source": [
    "for i in data:\n",
    "    j = 2020-i\n",
    "    if j in data:\n",
    "        break\n",
    "\n",
    "print(i, j, i*j)"
   ]
  },
  {
   "cell_type": "markdown",
   "metadata": {},
   "source": [
    "Some thoughts on this implementation:\n",
    "    \n",
    "I'm not checking for duplicates, so if 1010 was in the dataset and only appeared once, this code would incorrectly return that as i and j. Ideally I'd search for 2020-i in data minus element i, but I think the np.delete function creates a whole new array, which is a waste of memory imo. I think we can create a mask or something using np.where(data==i) and remove the first instance where i shows up. Since our data set is only 200 elements I'm not going to explore to deep"
   ]
  },
  {
   "cell_type": "markdown",
   "metadata": {},
   "source": [
    "## Part 2\n",
    "Let's implement a mix of (1) (2) again, but this time use the np.delete so we don't have to deal with the potential bug I mentioned in the previous cell"
   ]
  },
  {
   "cell_type": "code",
   "execution_count": 56,
   "metadata": {},
   "outputs": [],
   "source": [
    "#  glad I don't have to write my own sorting algorithm :)\n",
    "data = np.sort(data)"
   ]
  },
  {
   "cell_type": "code",
   "execution_count": 57,
   "metadata": {},
   "outputs": [
    {
     "name": "stdout",
     "output_type": "stream",
     "text": [
      "60.0 472.0 1488.0 42140160.0\n"
     ]
    }
   ],
   "source": [
    "found_flag = 0\n",
    "for i in data:\n",
    "    n_data = np.delete(data, np.where(data==i)[0]) # remove first occurence of i\n",
    "    \n",
    "    for j in n_data[np.where(n_data<=2020-i)]:\n",
    "        n_data = np.delete(n_data, np.where(n_data==j)[0]) # remove first occurence of j\n",
    "        k = 2020-i-j\n",
    "        if k in n_data:\n",
    "            found_flag = 1\n",
    "            break\n",
    "        if found_flag:\n",
    "            break\n",
    "            \n",
    "    if found_flag:\n",
    "            break\n",
    "\n",
    "print(i, j, k, i*j*k)\n",
    "\n"
   ]
  },
  {
   "cell_type": "code",
   "execution_count": null,
   "metadata": {},
   "outputs": [],
   "source": []
  }
 ],
 "metadata": {
  "kernelspec": {
   "display_name": "Python 3",
   "language": "python",
   "name": "python3"
  },
  "language_info": {
   "codemirror_mode": {
    "name": "ipython",
    "version": 3
   },
   "file_extension": ".py",
   "mimetype": "text/x-python",
   "name": "python",
   "nbconvert_exporter": "python",
   "pygments_lexer": "ipython3",
   "version": "3.8.6"
  }
 },
 "nbformat": 4,
 "nbformat_minor": 4
}
