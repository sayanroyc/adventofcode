{
 "cells": [
  {
   "cell_type": "markdown",
   "metadata": {},
   "source": [
    "# Day 1"
   ]
  },
  {
   "cell_type": "code",
   "execution_count": 2,
   "metadata": {},
   "outputs": [],
   "source": [
    "import numpy as np"
   ]
  },
  {
   "cell_type": "markdown",
   "metadata": {},
   "source": [
    "## Part 1\n",
    "For a small data set, we can simply iterate through each element in the array, and check if the sum comes to 2020 - $O(n^2)$. Two upgrades I can think of are \n",
    "\n",
    "(1) first order the array and then take out all the elements $j$ such that $i+j > 2020$, which can eliminate a bunch of values. Think this comes to $O(nlogn)$\n",
    "\n",
    "(2) simply search for $2020-i$ in the data set. I think numpy is optimized so that this is not another $O(n^2)$ operation but I'm not sure.\n",
    "\n",
    "I will implement (2) here"
   ]
  },
  {
   "cell_type": "code",
   "execution_count": 10,
   "metadata": {},
   "outputs": [],
   "source": [
    "data = np.loadtxt('input.txt')"
   ]
  },
  {
   "cell_type": "code",
   "execution_count": 11,
   "metadata": {},
   "outputs": [
    {
     "name": "stdout",
     "output_type": "stream",
     "text": [
      "51.0 1969.0 100419.0\n"
     ]
    }
   ],
   "source": [
    "for i in data:\n",
    "    j = 2020-i\n",
    "    if j in data:\n",
    "        break\n",
    "\n",
    "print(i, j, i*j)"
   ]
  },
  {
   "cell_type": "markdown",
   "metadata": {},
   "source": [
    "Some thoughts on this implementation:\n",
    "    \n",
    "I'm not checking for duplicates, so if 1010 was in the dataset and only appeared once, this code would incorrectly return that as i and j. Ideally I'd search for 2020-i in data minus element i, but I think the np.delete function creates a whole new array, which is a waste of memory imo. I think we can create a mask or something using np.where(data==i) and remove the first instance where i shows up. Since our data set is only 200 elements I'm not going to explore to deep"
   ]
  },
  {
   "cell_type": "markdown",
   "metadata": {},
   "source": [
    "## Part 2\n",
    "Let's implement (2) again, but this time use the np.delete so we don't have to deal with the potential bug I mentioned in the previous cell"
   ]
  },
  {
   "cell_type": "code",
   "execution_count": 29,
   "metadata": {},
   "outputs": [],
   "source": [
    "#  glad I don't have to write my own sorting algorithm :)\n",
    "data = np.sort(data)"
   ]
  },
  {
   "cell_type": "code",
   "execution_count": 49,
   "metadata": {},
   "outputs": [
    {
     "ename": "SyntaxError",
     "evalue": "invalid syntax (<ipython-input-49-088bb4140360>, line 4)",
     "output_type": "error",
     "traceback": [
      "\u001b[1;36m  File \u001b[1;32m\"<ipython-input-49-088bb4140360>\"\u001b[1;36m, line \u001b[1;32m4\u001b[0m\n\u001b[1;33m    if(i+j+k=2020):\u001b[0m\n\u001b[1;37m            ^\u001b[0m\n\u001b[1;31mSyntaxError\u001b[0m\u001b[1;31m:\u001b[0m invalid syntax\n"
     ]
    }
   ],
   "source": [
    "found_flag = 0\n",
    "for i in data:\n",
    "    n_data = np.delete(data, np.where(data==i)[0]) # remove first occurence of i\n",
    "    \n",
    "    for j in n_data[np.where(n_data<=2020-i)]:\n",
    "        n_data = np.delete(n_data, np.where(n_data==j)[0]) # remove first occurence of j\n",
    "        k = 2020-i-j\n",
    "        if k in n_data:\n",
    "            found_flag = 1\n",
    "            break\n",
    "        if found_flag:\n",
    "            break\n",
    "            \n",
    "    if found_flag:\n",
    "            break\n",
    "\n",
    "print(i, j, k, i*j*k)\n",
    "\n"
   ]
  },
  {
   "cell_type": "code",
   "execution_count": 51,
   "metadata": {},
   "outputs": [
    {
     "data": {
      "text/plain": [
       "array([199], dtype=int32)"
      ]
     },
     "execution_count": 51,
     "metadata": {},
     "output_type": "execute_result"
    }
   ],
   "source": []
  }
 ],
 "metadata": {
  "kernelspec": {
   "display_name": "Python 3",
   "language": "python",
   "name": "python3"
  },
  "language_info": {
   "codemirror_mode": {
    "name": "ipython",
    "version": 3
   },
   "file_extension": ".py",
   "mimetype": "text/x-python",
   "name": "python",
   "nbconvert_exporter": "python",
   "pygments_lexer": "ipython3",
   "version": "3.8.6"
  }
 },
 "nbformat": 4,
 "nbformat_minor": 4
}
