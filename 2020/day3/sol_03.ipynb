{
 "cells": [
  {
   "cell_type": "markdown",
   "metadata": {},
   "source": [
    "# Day 3"
   ]
  },
  {
   "cell_type": "code",
   "execution_count": 39,
   "metadata": {},
   "outputs": [],
   "source": [
    "import numpy as np"
   ]
  },
  {
   "cell_type": "markdown",
   "metadata": {},
   "source": [
    "## Part 1"
   ]
  },
  {
   "cell_type": "code",
   "execution_count": 40,
   "metadata": {},
   "outputs": [],
   "source": [
    "data = np.genfromtxt(\"input.txt\", dtype=str, delimiter=\"\\t\", comments=None)"
   ]
  },
  {
   "cell_type": "code",
   "execution_count": 41,
   "metadata": {},
   "outputs": [
    {
     "name": "stdout",
     "output_type": "stream",
     "text": [
      "230\n"
     ]
    }
   ],
   "source": [
    "tree_count = 0\n",
    "pos = 0\n",
    "for i in data:\n",
    "    pos = pos % len(i)\n",
    "    if i[pos] == \"#\":\n",
    "        tree_count += 1\n",
    "    \n",
    "    pos += 3\n",
    "\n",
    "print(tree_count)"
   ]
  },
  {
   "cell_type": "markdown",
   "metadata": {},
   "source": [
    "## Part 2"
   ]
  },
  {
   "cell_type": "code",
   "execution_count": 42,
   "metadata": {},
   "outputs": [
    {
     "name": "stdout",
     "output_type": "stream",
     "text": [
      "[104, 230, 83, 98, 49]\n"
     ]
    }
   ],
   "source": [
    "slopes = np.array([[1,1], [3,1], [5,1], [7,1], [1,2]])\n",
    "tree_count = []\n",
    "\n",
    "for x, y in slopes:\n",
    "    pos = 0\n",
    "    counter = 0\n",
    "    \n",
    "    for i in range(len(data)):\n",
    "        if i%y==0:\n",
    "            pos = pos % len(data[i])\n",
    "            if data[i][pos] == \"#\":\n",
    "                counter += 1\n",
    "\n",
    "            pos += x\n",
    "    tree_count.append(counter)\n",
    "\n",
    "print(tree_count)"
   ]
  },
  {
   "cell_type": "code",
   "execution_count": 43,
   "metadata": {},
   "outputs": [
    {
     "name": "stdout",
     "output_type": "stream",
     "text": [
      "9533698720\n"
     ]
    }
   ],
   "source": [
    "product = 1\n",
    "for i in tree_count:\n",
    "    product *= i\n",
    "\n",
    "print(product)"
   ]
  },
  {
   "cell_type": "code",
   "execution_count": null,
   "metadata": {},
   "outputs": [],
   "source": []
  }
 ],
 "metadata": {
  "kernelspec": {
   "display_name": "Python 3",
   "language": "python",
   "name": "python3"
  },
  "language_info": {
   "codemirror_mode": {
    "name": "ipython",
    "version": 3
   },
   "file_extension": ".py",
   "mimetype": "text/x-python",
   "name": "python",
   "nbconvert_exporter": "python",
   "pygments_lexer": "ipython3",
   "version": "3.8.6"
  }
 },
 "nbformat": 4,
 "nbformat_minor": 4
}
