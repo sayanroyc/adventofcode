{
 "cells": [
  {
   "cell_type": "markdown",
   "metadata": {},
   "source": [
    "# Day 4"
   ]
  },
  {
   "cell_type": "code",
   "execution_count": 111,
   "metadata": {},
   "outputs": [],
   "source": [
    "import numpy as np\n",
    "import re"
   ]
  },
  {
   "cell_type": "code",
   "execution_count": 112,
   "metadata": {},
   "outputs": [],
   "source": [
    "# data = np.genfromtxt(\"input.txt\", dtype=str, delimiter=\"\\n\")"
   ]
  },
  {
   "cell_type": "code",
   "execution_count": 113,
   "metadata": {},
   "outputs": [],
   "source": [
    "with open(\"input.txt\") as f:\n",
    "#     content = f.readlines()\n",
    "    data = f.read().split('\\n\\n')"
   ]
  },
  {
   "cell_type": "code",
   "execution_count": 114,
   "metadata": {},
   "outputs": [
    {
     "name": "stdout",
     "output_type": "stream",
     "text": [
      "202\n"
     ]
    }
   ],
   "source": [
    "# reqd_fields = [\"\"]\n",
    "valid_passports = 0\n",
    "\n",
    "for i in data:\n",
    "    passport = i.replace('\\n', ' ').strip().split(' ')\n",
    "    dict = {}\n",
    "    for j in passport:\n",
    "        a = j.split(':')\n",
    "        if (a[0]!='cid'):\n",
    "            dict[a[0]] = a[1]\n",
    "    \n",
    "    if(len(dict) == 7):\n",
    "        valid_passports += 1\n",
    "        \n",
    "print(valid_passports)"
   ]
  },
  {
   "cell_type": "markdown",
   "metadata": {},
   "source": [
    "## Part 2"
   ]
  },
  {
   "cell_type": "code",
   "execution_count": 115,
   "metadata": {},
   "outputs": [
    {
     "name": "stdout",
     "output_type": "stream",
     "text": [
      "137\n"
     ]
    }
   ],
   "source": [
    "valid_passports = 0\n",
    "for i in data:\n",
    "    passport = i.replace('\\n', ' ').strip().split(' ')\n",
    "    passport_data_dict = {}\n",
    "    for j in passport:\n",
    "        a = j.split(':')\n",
    "        if (a[0]!='cid'):\n",
    "            passport_data_dict[a[0]] = a[1]\n",
    "\n",
    "        valid_flag = is_valid_passport(passport_data_dict)\n",
    "    \n",
    "            \n",
    "    if(valid_flag == 1):\n",
    "        valid_passports += 1\n",
    "\n",
    "        \n",
    "print(valid_passports)"
   ]
  },
  {
   "cell_type": "code",
   "execution_count": 116,
   "metadata": {},
   "outputs": [],
   "source": [
    "def is_valid_passport(passport_data_dict):\n",
    "    if(len(passport_data_dict) != 7): # loop runs if 7 valid fields (without cid)\n",
    "        return 0\n",
    "    \n",
    "    # maybe check if actually 4 digits, and if it's actually a number\n",
    "    byr = int(passport_data_dict['byr'])\n",
    "    if(not(byr >= 1920 and byr <= 2002)):\n",
    "        return 0\n",
    "\n",
    "    iyr = int(passport_data_dict['iyr'])\n",
    "    if(not(iyr >= 2010 and iyr <= 2020)):\n",
    "        return 0\n",
    "\n",
    "    eyr = int(passport_data_dict['eyr'])\n",
    "    if(not(eyr >= 2020 and eyr <= 2030)):\n",
    "        return 0\n",
    "\n",
    "    hgt = passport_data_dict['hgt']\n",
    "    hgt_unit = hgt[-2:]\n",
    "    if not(hgt_unit =='cm' or hgt_unit =='in'):\n",
    "        return 0\n",
    "    hgt_value = int(hgt[:-2])\n",
    "    if hgt_unit == 'cm':\n",
    "        if(not(hgt_value >= 150 and hgt_value <= 193)):\n",
    "            return 0\n",
    "    if hgt_unit == 'in':\n",
    "        if(not(hgt_value >= 59 and hgt_value <= 76)):\n",
    "            return 0\n",
    "\n",
    "    hcl = passport_data_dict['hcl']\n",
    "    # learn regex you loser\n",
    "    reg=re.compile('^#[a-f\\d]{6}$')\n",
    "    search=reg.search\n",
    "    if not bool(search(hcl)):\n",
    "        return 0\n",
    " \n",
    "    valid_ecls = ['amb', 'blu', 'brn', 'gry', 'grn', 'hzl', 'oth']\n",
    "    ecl = passport_data_dict['ecl']\n",
    "    if not(ecl in valid_ecls):\n",
    "        return 0\n",
    "    \n",
    "    pid = passport_data_dict['pid']\n",
    "    reg=re.compile('^[\\d]{9}$')\n",
    "    search=reg.search\n",
    "    if not bool(search(pid)):\n",
    "        return 0\n",
    "    \n",
    "    \n",
    "    return 1"
   ]
  },
  {
   "cell_type": "code",
   "execution_count": null,
   "metadata": {},
   "outputs": [],
   "source": []
  }
 ],
 "metadata": {
  "kernelspec": {
   "display_name": "Python 3",
   "language": "python",
   "name": "python3"
  },
  "language_info": {
   "codemirror_mode": {
    "name": "ipython",
    "version": 3
   },
   "file_extension": ".py",
   "mimetype": "text/x-python",
   "name": "python",
   "nbconvert_exporter": "python",
   "pygments_lexer": "ipython3",
   "version": "3.8.6"
  }
 },
 "nbformat": 4,
 "nbformat_minor": 4
}
