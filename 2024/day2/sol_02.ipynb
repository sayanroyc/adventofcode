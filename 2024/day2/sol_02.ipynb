{
 "cells": [
  {
   "cell_type": "code",
   "execution_count": 1,
   "id": "730fdeb6-2e47-4ffd-8113-5d663a8a48ef",
   "metadata": {},
   "outputs": [],
   "source": [
    "import numpy as np"
   ]
  },
  {
   "cell_type": "code",
   "execution_count": 74,
   "id": "58973840-b086-43a1-8218-5aa67954d658",
   "metadata": {},
   "outputs": [],
   "source": [
    "fname = \"input.txt\"\n",
    "# data = np.loadtxt(fname) # giving issues since variable number of items per row\n",
    "with open(fname) as file:\n",
    "    lines = [line.rstrip() for line in file]\n",
    "data = []\n",
    "for l in lines:\n",
    "    data.append(np.array(l.split(\" \")).astype(int))"
   ]
  },
  {
   "cell_type": "markdown",
   "id": "ca743bda-f002-4854-8a18-96fcf3bd062d",
   "metadata": {},
   "source": [
    "# Part 1: Sum of distances between sorted lists"
   ]
  },
  {
   "cell_type": "code",
   "execution_count": 87,
   "id": "446f5f5a-caa1-4468-ae81-4e0d5b4dba01",
   "metadata": {},
   "outputs": [
    {
     "name": "stdout",
     "output_type": "stream",
     "text": [
      "[ 3  6  9 13 16 20]\n",
      "[3 3 4 3 4]\n",
      "False\n"
     ]
    }
   ],
   "source": [
    "test_d = data[17]\n",
    "print(test_d)\n",
    "print(np.diff(test_d))\n",
    "\n",
    "t1 = np.all(np.diff(test_d)>0)\n",
    "t2 = np.all(np.diff(test_d)<0)\n",
    "t3 = np.all(abs(np.diff(test_d)) >= 1)\n",
    "t4 = np.all(abs(np.diff(test_d)) <= 3)\n",
    "print((t1 or t2) and t3 and t4)\n",
    "\n",
    "# print(np.all(abs(np.diff(test_d)) >= 1))\n",
    "# print(not(np.all(abs(np.diff(test_d)) >= 1) and np.all(abs(np.diff(test_d)) <= 3)))"
   ]
  },
  {
   "cell_type": "code",
   "execution_count": 78,
   "id": "aa3dc699-2d41-4568-9274-ce22e26d7969",
   "metadata": {},
   "outputs": [
    {
     "name": "stdout",
     "output_type": "stream",
     "text": [
      "246\n"
     ]
    }
   ],
   "source": [
    "safe_counter = 0\n",
    "\n",
    "for d in data:\n",
    "    t1 = np.all(np.diff(d)>0)\n",
    "    t2 = np.all(np.diff(d)<0)\n",
    "    t3 = np.all(abs(np.diff(d)) >= 1)\n",
    "    t4 = np.all(abs(np.diff(d)) <= 3)\n",
    "    if((t1 or t2) and t3 and t4):\n",
    "        safe_counter += 1\n",
    "        # print(d)\n",
    "print(safe_counter)"
   ]
  },
  {
   "cell_type": "code",
   "execution_count": 91,
   "id": "6f44d2fa-ac78-4ec0-9acf-3f75e4a47640",
   "metadata": {},
   "outputs": [
    {
     "name": "stdout",
     "output_type": "stream",
     "text": [
      "246\n"
     ]
    }
   ],
   "source": [
    "safe_counter = 0\n",
    "\n",
    "for d in data:\n",
    "# for d in [test_d]:\n",
    "    safe = True\n",
    "    # condition 1: all increasing or all decreasing\n",
    "    if not(np.all(np.diff(d) > 0) or np.all(np.diff(d) < 0)):\n",
    "        safe = False\n",
    "\n",
    "    # condition 2: adjacent levels difference 1 <= diff <= 3\n",
    "    if(not(np.all(abs(np.diff(d)) >= 1))):\n",
    "        safe = False\n",
    "\n",
    "    if(not(np.all(abs(np.diff(d)) <= 3))):\n",
    "        safe = False\n",
    "\n",
    "    if(safe == True):\n",
    "        safe_counter += 1\n",
    "\n",
    "print(safe_counter)"
   ]
  },
  {
   "cell_type": "markdown",
   "id": "c6fe97b4-ff99-457a-9967-686d222a5f19",
   "metadata": {},
   "source": [
    "# Part 2: Problem Dampener"
   ]
  },
  {
   "cell_type": "code",
   "execution_count": 97,
   "id": "c60432a7-19e6-4549-8862-5baa2c653338",
   "metadata": {},
   "outputs": [
    {
     "name": "stdout",
     "output_type": "stream",
     "text": [
      "318\n"
     ]
    }
   ],
   "source": [
    "safe_counter = 0\n",
    "\n",
    "for d in data:\n",
    "    for ind, elem in enumerate(d):\n",
    "        test_d = np.delete(d,ind)\n",
    "        \n",
    "        t1 = np.all(np.diff(test_d)>0)\n",
    "        t2 = np.all(np.diff(test_d)<0)\n",
    "        t3 = np.all(abs(np.diff(test_d)) >= 1)\n",
    "        t4 = np.all(abs(np.diff(test_d)) <= 3)\n",
    "        \n",
    "        if((t1 or t2) and t3 and t4):\n",
    "            safe_counter += 1\n",
    "            break\n",
    "\n",
    "print(safe_counter)"
   ]
  },
  {
   "cell_type": "code",
   "execution_count": null,
   "id": "2461ac69-a2b3-4a7b-9ae7-3c8e1e2ce616",
   "metadata": {},
   "outputs": [],
   "source": []
  }
 ],
 "metadata": {
  "kernelspec": {
   "display_name": "Python 3 (ipykernel)",
   "language": "python",
   "name": "python3"
  },
  "language_info": {
   "codemirror_mode": {
    "name": "ipython",
    "version": 3
   },
   "file_extension": ".py",
   "mimetype": "text/x-python",
   "name": "python",
   "nbconvert_exporter": "python",
   "pygments_lexer": "ipython3",
   "version": "3.11.4"
  }
 },
 "nbformat": 4,
 "nbformat_minor": 5
}
