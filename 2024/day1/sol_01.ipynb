{
 "cells": [
  {
   "cell_type": "code",
   "execution_count": 1,
   "id": "730fdeb6-2e47-4ffd-8113-5d663a8a48ef",
   "metadata": {},
   "outputs": [],
   "source": [
    "import numpy as np"
   ]
  },
  {
   "cell_type": "code",
   "execution_count": 7,
   "id": "58973840-b086-43a1-8218-5aa67954d658",
   "metadata": {},
   "outputs": [],
   "source": [
    "fname = \"input.txt\"\n",
    "data = np.loadtxt(fname)\n",
    "# with open(fname) as file:\n",
    "#     lines = [line.rstrip() for line in file]\n",
    "# data = []\n",
    "# for l in lines:\n",
    "#     data.append(l.split(\" \"))"
   ]
  },
  {
   "cell_type": "code",
   "execution_count": 10,
   "id": "6f44d2fa-ac78-4ec0-9acf-3f75e4a47640",
   "metadata": {},
   "outputs": [],
   "source": [
    "left_list = data.T[0]\n",
    "right_list = data.T[1]"
   ]
  },
  {
   "cell_type": "markdown",
   "id": "ca743bda-f002-4854-8a18-96fcf3bd062d",
   "metadata": {},
   "source": [
    "# Part 1: Sum of distances between sorted lists"
   ]
  },
  {
   "cell_type": "code",
   "execution_count": 15,
   "id": "120ca842-1278-49f8-a92d-82e0ac1b88e7",
   "metadata": {},
   "outputs": [
    {
     "data": {
      "text/plain": [
       "1889772.0"
      ]
     },
     "execution_count": 15,
     "metadata": {},
     "output_type": "execute_result"
    }
   ],
   "source": [
    "np.sum(abs(np.sort(left_list) - np.sort(right_list)))"
   ]
  },
  {
   "cell_type": "markdown",
   "id": "c6fe97b4-ff99-457a-9967-686d222a5f19",
   "metadata": {},
   "source": [
    "# Part 2: Similarity score"
   ]
  },
  {
   "cell_type": "code",
   "execution_count": 23,
   "id": "20615276-bd29-4bf3-9e05-e462cf66f574",
   "metadata": {},
   "outputs": [],
   "source": [
    "unique_val, counts = np.unique(right_list, return_counts=True)\n",
    "right_list_count_dict = dict(zip(unique_val, counts))"
   ]
  },
  {
   "cell_type": "code",
   "execution_count": 24,
   "id": "c60432a7-19e6-4549-8862-5baa2c653338",
   "metadata": {},
   "outputs": [],
   "source": [
    "score = 0\n",
    "for i in left_list:\n",
    "    if i in right_list_count_dict.keys():\n",
    "        score += i*right_list_count_dict[i]"
   ]
  },
  {
   "cell_type": "code",
   "execution_count": 25,
   "id": "b8a95dd6-8226-4b85-8bd6-ddf6c94692c4",
   "metadata": {},
   "outputs": [
    {
     "data": {
      "text/plain": [
       "23228917.0"
      ]
     },
     "execution_count": 25,
     "metadata": {},
     "output_type": "execute_result"
    }
   ],
   "source": [
    "score"
   ]
  },
  {
   "cell_type": "code",
   "execution_count": null,
   "id": "2461ac69-a2b3-4a7b-9ae7-3c8e1e2ce616",
   "metadata": {},
   "outputs": [],
   "source": []
  }
 ],
 "metadata": {
  "kernelspec": {
   "display_name": "Python 3 (ipykernel)",
   "language": "python",
   "name": "python3"
  },
  "language_info": {
   "codemirror_mode": {
    "name": "ipython",
    "version": 3
   },
   "file_extension": ".py",
   "mimetype": "text/x-python",
   "name": "python",
   "nbconvert_exporter": "python",
   "pygments_lexer": "ipython3",
   "version": "3.11.4"
  }
 },
 "nbformat": 4,
 "nbformat_minor": 5
}
