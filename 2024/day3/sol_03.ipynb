{
 "cells": [
  {
   "cell_type": "code",
   "execution_count": 17,
   "id": "730fdeb6-2e47-4ffd-8113-5d663a8a48ef",
   "metadata": {},
   "outputs": [],
   "source": [
    "import numpy as np\n",
    "import re"
   ]
  },
  {
   "cell_type": "code",
   "execution_count": 14,
   "id": "58973840-b086-43a1-8218-5aa67954d658",
   "metadata": {},
   "outputs": [],
   "source": [
    "fname = \"input.txt\"\n",
    "# data = np.loadtxt(fname) # giving issues since variable number of items per row\n",
    "with open(fname) as file:\n",
    "    lines = [line.rstrip() for line in file]\n",
    "# data = []\n",
    "# for l in lines:\n",
    "#     data.append(np.array(l.split(\" \")).astype(int))\n",
    "data = \"\".join(lines)"
   ]
  },
  {
   "cell_type": "code",
   "execution_count": 21,
   "id": "2154096c-a870-406f-ad4e-14549f3d0304",
   "metadata": {},
   "outputs": [
    {
     "data": {
      "text/plain": [
       "'mul(498,303);when()}!(%mul(846,233)-,what()($where()how():}mul(334,117)]~>?,<,%^,mul(886,213)/:from('"
      ]
     },
     "execution_count": 21,
     "metadata": {},
     "output_type": "execute_result"
    }
   ],
   "source": [
    "data[0:100]"
   ]
  },
  {
   "cell_type": "markdown",
   "id": "ca743bda-f002-4854-8a18-96fcf3bd062d",
   "metadata": {},
   "source": [
    "# Part 1: Find mul instructions"
   ]
  },
  {
   "cell_type": "code",
   "execution_count": 23,
   "id": "bd4dab5b-c70c-48a3-b4fc-eb8aec9c6014",
   "metadata": {},
   "outputs": [],
   "source": [
    "# Regex pattern to match \"mult(x,y)\" where x and y are 1-3 digit numbers\n",
    "pattern = r\"mul\\((\\d{1,3}),(\\d{1,3})\\)\"\n",
    "\n",
    "# Find all matches\n",
    "matches = re.findall(pattern, data)\n",
    "# print(matches)"
   ]
  },
  {
   "cell_type": "code",
   "execution_count": 24,
   "id": "8a4a48b4-2353-4aaf-afa4-64655c3fa310",
   "metadata": {},
   "outputs": [],
   "source": [
    "counter = 0\n",
    "for m in matches:\n",
    "    counter += int(m[0])*int(m[1])"
   ]
  },
  {
   "cell_type": "code",
   "execution_count": 25,
   "id": "446f5f5a-caa1-4468-ae81-4e0d5b4dba01",
   "metadata": {},
   "outputs": [
    {
     "name": "stdout",
     "output_type": "stream",
     "text": [
      "189600467\n"
     ]
    }
   ],
   "source": [
    "print(counter)"
   ]
  },
  {
   "cell_type": "markdown",
   "id": "c6fe97b4-ff99-457a-9967-686d222a5f19",
   "metadata": {},
   "source": [
    "# Part 2: Conditional statements"
   ]
  },
  {
   "cell_type": "code",
   "execution_count": 28,
   "id": "c60432a7-19e6-4549-8862-5baa2c653338",
   "metadata": {},
   "outputs": [],
   "source": [
    "def process_instructions(input_string):\n",
    "    # Patterns for the instructions and mul operations\n",
    "    do_pattern = r\"do\\(\\)\"\n",
    "    dont_pattern = r\"don't\\(\\)\"\n",
    "    mul_pattern = r\"mul\\((\\d{1,3}),(\\d{1,3})\\)\"\n",
    "\n",
    "    # Split the input into tokens for easier parsing\n",
    "    tokens = re.split(r\"(do\\(\\)|don't\\(\\)|mul\\(\\d{1,3},\\d{1,3}\\))\", input_string)\n",
    "\n",
    "    # Initial state: mul instructions are enabled\n",
    "    mul_enabled = True\n",
    "    results = []\n",
    "\n",
    "    for token in tokens:\n",
    "        token = token.strip()\n",
    "\n",
    "        if re.fullmatch(do_pattern, token):\n",
    "            mul_enabled = True\n",
    "        elif re.fullmatch(dont_pattern, token):\n",
    "            mul_enabled = False\n",
    "        elif re.fullmatch(mul_pattern, token):\n",
    "            if mul_enabled:\n",
    "                # Extract the numbers and evaluate the mul operation\n",
    "                x, y = map(int, re.findall(r\"\\d+\", token))\n",
    "                results.append((x, y, x * y))\n",
    "\n",
    "    return results"
   ]
  },
  {
   "cell_type": "code",
   "execution_count": 32,
   "id": "2461ac69-a2b3-4a7b-9ae7-3c8e1e2ce616",
   "metadata": {},
   "outputs": [
    {
     "name": "stdout",
     "output_type": "stream",
     "text": [
      "107069718\n"
     ]
    }
   ],
   "source": [
    "output = process_instructions(data)\n",
    "counter = 0\n",
    "for x, y, product in output:\n",
    "    # print(f\"mul({x}, {y}) = {product}\")\n",
    "    counter+=product\n",
    "\n",
    "print(counter)"
   ]
  },
  {
   "cell_type": "code",
   "execution_count": null,
   "id": "206a71a0-9e6a-42fc-be98-81cbb225a013",
   "metadata": {},
   "outputs": [],
   "source": []
  }
 ],
 "metadata": {
  "kernelspec": {
   "display_name": "Python 3 (ipykernel)",
   "language": "python",
   "name": "python3"
  },
  "language_info": {
   "codemirror_mode": {
    "name": "ipython",
    "version": 3
   },
   "file_extension": ".py",
   "mimetype": "text/x-python",
   "name": "python",
   "nbconvert_exporter": "python",
   "pygments_lexer": "ipython3",
   "version": "3.11.4"
  }
 },
 "nbformat": 4,
 "nbformat_minor": 5
}
